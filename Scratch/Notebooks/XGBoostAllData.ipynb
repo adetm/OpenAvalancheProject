{
 "cells": [
  {
   "cell_type": "code",
   "execution_count": 1,
   "metadata": {},
   "outputs": [],
   "source": [
    "%reload_ext autoreload\n",
    "%autoreload 2\n",
    "%matplotlib inline"
   ]
  },
  {
   "cell_type": "code",
   "execution_count": 2,
   "metadata": {},
   "outputs": [],
   "source": [
    "import xgboost\n",
    "import xarray as xr\n",
    "import numpy as np\n",
    "from dask.distributed import Client\n",
    "import dask\n",
    "import dask_xgboost\n",
    "import matplotlib.pyplot as plt\n",
    "import pandas as pd\n",
    "import pyarrow"
   ]
  },
  {
   "cell_type": "code",
   "execution_count": 3,
   "metadata": {},
   "outputs": [],
   "source": [
    "processed_path = '/media/scottcha/Data/Temp/GFSFiltered/'\n",
    "path_to_labels = '/media/scottcha/E1/Data/OAPMLData/CleanedForecastsNWAC_CAIC_UAC.V1.csv'"
   ]
  },
  {
   "cell_type": "code",
   "execution_count": 4,
   "metadata": {},
   "outputs": [],
   "source": [
    "def speak(text):\n",
    "    from IPython.display import Javascript as js, clear_output\n",
    "    # Escape single quotes\n",
    "    text = text.replace(\"'\", r\"\\'\")\n",
    "    display(js('''\n",
    "    if(window.speechSynthesis) {{\n",
    "        var synth = window.speechSynthesis;\n",
    "        synth.speak(new window.SpeechSynthesisUtterance('{text}'));\n",
    "    }}\n",
    "    '''.format(text=text)))\n",
    "    # Clear the JS so that the notebook doesn't speak again when reopened/refreshed\n",
    "    clear_output(False)"
   ]
  },
  {
   "cell_type": "code",
   "execution_count": 5,
   "metadata": {
    "scrolled": true
   },
   "outputs": [
    {
     "data": {
      "text/html": [
       "<table style=\"border: 2px solid white;\">\n",
       "<tr>\n",
       "<td style=\"vertical-align: top; border: 0px solid white\">\n",
       "<h3 style=\"text-align: left;\">Client</h3>\n",
       "<ul style=\"text-align: left; list-style: none; margin: 0; padding: 0;\">\n",
       "  <li><b>Scheduler: </b>tcp://127.0.0.1:46359</li>\n",
       "  <li><b>Dashboard: </b><a href='http://127.0.0.1:8787/status' target='_blank'>http://127.0.0.1:8787/status</a>\n",
       "</ul>\n",
       "</td>\n",
       "<td style=\"vertical-align: top; border: 0px solid white\">\n",
       "<h3 style=\"text-align: left;\">Cluster</h3>\n",
       "<ul style=\"text-align: left; list-style:none; margin: 0; padding: 0;\">\n",
       "  <li><b>Workers: </b>8</li>\n",
       "  <li><b>Cores: </b>8</li>\n",
       "  <li><b>Memory: </b>50.55 GB</li>\n",
       "</ul>\n",
       "</td>\n",
       "</tr>\n",
       "</table>"
      ],
      "text/plain": [
       "<Client: 'tcp://127.0.0.1:46359' processes=8 threads=8, memory=50.55 GB>"
      ]
     },
     "execution_count": 5,
     "metadata": {},
     "output_type": "execute_result"
    }
   ],
   "source": [
    "#TODO set memory limit lower, then optimize chunks\n",
    "client=Client(n_workers=8, threads_per_worker=1 )\n",
    "client"
   ]
  },
  {
   "cell_type": "code",
   "execution_count": 6,
   "metadata": {},
   "outputs": [],
   "source": [
    "def lookup_forecast_region(label_region):\n",
    "    if label_region == 'Mt Hood':\n",
    "        return 'Mt Hood'\n",
    "    elif label_region == 'Olympics':\n",
    "        return 'Olympics'\n",
    "    elif label_region == 'Cascade Pass - Snoq. Pass':\n",
    "        return 'Snoqualmie Pass'\n",
    "    elif label_region == 'Cascade Pass - Stevens Pass':\n",
    "        return 'Stevens Pass'\n",
    "    elif label_region == 'Cascade East - Central':\n",
    "        return 'WA Cascades East, Central'\n",
    "    elif label_region == 'Cascade East - North':\n",
    "        return 'WA Cascades East, North'\n",
    "    elif label_region == 'Cascade East - South':\n",
    "        return 'WA Cascades East, South'\n",
    "    elif label_region == 'Cascade West - Central':\n",
    "        return 'WA Cascades West, Central'\n",
    "    elif label_region == 'Cascade West - North':\n",
    "        return 'WA Cascades West, Mt Baker'\n",
    "    elif label_region == 'Cascade West - South':\n",
    "        return 'WA Cascades West, South'\n",
    "    elif label_region == 'Abajo':\n",
    "        return 'Abajos'\n",
    "    elif label_region == 'Logan':\n",
    "        return 'Logan'\n",
    "    elif label_region == 'Moab':\n",
    "        return 'Moab'\n",
    "    elif label_region == 'Ogden':\n",
    "        return 'Ogden'\n",
    "    elif label_region == 'Provo':\n",
    "        return 'Provo'\n",
    "    elif label_region == 'Salt Lake':\n",
    "        return 'Salt Lake'\n",
    "    elif label_region == 'Skyline':\n",
    "        return 'Skyline'\n",
    "    elif label_region == 'Uintas':\n",
    "        return 'Uintas'\n",
    "    elif label_region == 'Grand Mesa':\n",
    "        return 'Grand Mesa Zone'\n",
    "    elif label_region == 'Sangre de Cristo':\n",
    "        return 'Sangre de Cristo Range'\n",
    "    elif label_region == 'Steamboat & Flat Tops':\n",
    "        return 'Steamboat Zone'\n",
    "    elif label_region == 'Front Range':\n",
    "        return 'Front Range Zone'\n",
    "    elif label_region == 'Vail & Summit County':\n",
    "        return 'Vail Summit Zone'\n",
    "    elif label_region == 'Sawatch Range':\n",
    "        return 'Sawatch Zone'\n",
    "    elif label_region == 'Aspen':\n",
    "        return 'Aspen Zone'\n",
    "    elif label_region == 'Northern San Juan':\n",
    "        return 'North San Juan Mountains'\n",
    "    elif label_region == 'Southern San Juan':\n",
    "        return 'South San Juan Mountains'\n",
    "    elif label_region == 'Gunnison':\n",
    "        return 'Gunnison Zone'\n",
    "    else:\n",
    "        return 'Unknown region'"
   ]
  },
  {
   "cell_type": "code",
   "execution_count": 7,
   "metadata": {},
   "outputs": [],
   "source": [
    "regions = ['Abajos', 'Logan', 'Moab', 'Ogden', 'Provo', \n",
    "           'Salt Lake', 'Skyline', 'Uintas', 'Grand Mesa Zone', \n",
    "           'Sangre de Cristo Range', 'Steamboat Zone', 'Front Range Zone',\n",
    "           'Vail Summit Zone', 'Sawatch Zone', 'Aspen Zone', \n",
    "           'North San Juan Mountains', 'South San Juan Mountains', 'Gunnison Zone',\n",
    "           'Mt Hood', 'Olympics', 'Snoqualmie Pass', 'Stevens Pass',\n",
    "           'WA Cascades East, Central', 'WA Cascades East, North', 'WA Cascades East, South',\n",
    "           'WA Cascades West, Central', 'WA Cascades West, Mt Baker', 'WA Cascades West, South'\n",
    "           ]"
   ]
  },
  {
   "cell_type": "code",
   "execution_count": 21,
   "metadata": {},
   "outputs": [
    {
     "name": "stderr",
     "output_type": "stream",
     "text": [
      "/home/scottcha/anaconda3/envs/pangeo_local/lib/python3.6/site-packages/dask/array/core.py:3903: PerformanceWarning: Increasing number of chunks by factor of 11\n",
      "  **blockwise_kwargs,\n",
      "/home/scottcha/anaconda3/envs/pangeo_local/lib/python3.6/site-packages/dask/array/core.py:3903: PerformanceWarning: Increasing number of chunks by factor of 11\n",
      "  **blockwise_kwargs,\n",
      "/home/scottcha/anaconda3/envs/pangeo_local/lib/python3.6/site-packages/dask/array/core.py:3903: PerformanceWarning: Increasing number of chunks by factor of 12\n",
      "  **blockwise_kwargs,\n",
      "/home/scottcha/anaconda3/envs/pangeo_local/lib/python3.6/site-packages/dask/array/core.py:3903: PerformanceWarning: Increasing number of chunks by factor of 12\n",
      "  **blockwise_kwargs,\n",
      "/home/scottcha/anaconda3/envs/pangeo_local/lib/python3.6/site-packages/dask/array/core.py:3903: PerformanceWarning: Increasing number of chunks by factor of 13\n",
      "  **blockwise_kwargs,\n",
      "/home/scottcha/anaconda3/envs/pangeo_local/lib/python3.6/site-packages/dask/array/core.py:3903: PerformanceWarning: Increasing number of chunks by factor of 13\n",
      "  **blockwise_kwargs,\n",
      "/home/scottcha/anaconda3/envs/pangeo_local/lib/python3.6/site-packages/dask/array/core.py:3903: PerformanceWarning: Increasing number of chunks by factor of 10\n",
      "  **blockwise_kwargs,\n",
      "/home/scottcha/anaconda3/envs/pangeo_local/lib/python3.6/site-packages/dask/array/core.py:3903: PerformanceWarning: Increasing number of chunks by factor of 10\n",
      "  **blockwise_kwargs,\n",
      "/home/scottcha/anaconda3/envs/pangeo_local/lib/python3.6/site-packages/dask/array/core.py:3903: PerformanceWarning: Increasing number of chunks by factor of 10\n",
      "  **blockwise_kwargs,\n"
     ]
    }
   ],
   "source": [
    "#maintaining this as a dict since the arrays are ragged and its more efficient this way\n",
    "region_data = {}\n",
    "for r in regions:\n",
    "    region_data[r] = xr.open_mfdataset('/media/scottcha/E1/Data/OAPMLData/GFSTrainingData/GFSFiltered/Region_' + r + '*.nc', combine='nested', concat_dim='time', chunks={'season': 1, 'region': -1, 'latitude': 2, 'longitude': 2, 'var': -1, 'time': -1}).to_array()\n",
    "    "
   ]
  },
  {
   "cell_type": "code",
   "execution_count": 11,
   "metadata": {},
   "outputs": [
    {
     "data": {
      "text/html": [
       "<pre>&lt;xarray.DataArray &#x27;stack-54c9bc9566203695444d67e3992488c5&#x27; (variable: 1, season: 2, region: 1, latitude: 19, longitude: 30, var: 810, time: 730)&gt;\n",
       "dask.array&lt;stack, shape=(1, 2, 1, 19, 30, 810, 730), dtype=float32, chunksize=(1, 2, 1, 4, 4, 810, 365), chunktype=numpy.ndarray&gt;\n",
       "Coordinates:\n",
       "  * var        (var) object &quot;(0, &#x27;level_depthBelowLandLayer_avg_soilw&#x27;)&quot; ... &#x27;level_unknown_min_v&#x27;\n",
       "  * longitude  (longitude) float64 236.1 236.1 236.2 236.2 ... 236.9 237.0 237.0\n",
       "  * latitude   (latitude) float64 47.51 47.53 47.57 47.59 ... 47.99 48.01 48.04\n",
       "  * region     (region) object &#x27;Olympics&#x27;\n",
       "  * season     (season) object &#x27;15-16&#x27; &#x27;16-17&#x27;\n",
       "  * time       (time) datetime64[ns] 2015-05-02 2015-05-03 ... 2017-04-30\n",
       "  * variable   (variable) &lt;U29 &#x27;__xarray_dataarray_variable__&#x27;</pre>"
      ],
      "text/plain": [
       "<xarray.DataArray 'stack-54c9bc9566203695444d67e3992488c5' (variable: 1, season: 2, region: 1, latitude: 19, longitude: 30, var: 810, time: 730)>\n",
       "dask.array<stack, shape=(1, 2, 1, 19, 30, 810, 730), dtype=float32, chunksize=(1, 2, 1, 4, 4, 810, 365), chunktype=numpy.ndarray>\n",
       "Coordinates:\n",
       "  * var        (var) object \"(0, 'level_depthBelowLandLayer_avg_soilw')\" ... 'level_unknown_min_v'\n",
       "  * longitude  (longitude) float64 236.1 236.1 236.2 236.2 ... 236.9 237.0 237.0\n",
       "  * latitude   (latitude) float64 47.51 47.53 47.57 47.59 ... 47.99 48.01 48.04\n",
       "  * region     (region) object 'Olympics'\n",
       "  * season     (season) object '15-16' '16-17'\n",
       "  * time       (time) datetime64[ns] 2015-05-02 2015-05-03 ... 2017-04-30\n",
       "  * variable   (variable) <U29 '__xarray_dataarray_variable__'"
      ]
     },
     "execution_count": 11,
     "metadata": {},
     "output_type": "execute_result"
    }
   ],
   "source": [
    "region_data['Olympics']"
   ]
  },
  {
   "cell_type": "code",
   "execution_count": 11,
   "metadata": {},
   "outputs": [],
   "source": [
    "labels = pd.read_csv(path_to_labels, low_memory=False,\n",
    "        dtype={'Day1Danger_OctagonAboveTreelineEast': 'object',\n",
    "               'Day1Danger_OctagonAboveTreelineNorth': 'object',\n",
    "               'Day1Danger_OctagonAboveTreelineNorthEast': 'object',\n",
    "               'Day1Danger_OctagonAboveTreelineNorthWest': 'object',\n",
    "               'Day1Danger_OctagonAboveTreelineSouth': 'object',\n",
    "               'Day1Danger_OctagonAboveTreelineSouthEast': 'object',\n",
    "               'Day1Danger_OctagonAboveTreelineSouthWest': 'object',\n",
    "               'Day1Danger_OctagonAboveTreelineWest': 'object',\n",
    "               'Day1Danger_OctagonBelowTreelineEast': 'object',\n",
    "               'Day1Danger_OctagonBelowTreelineNorth': 'object',\n",
    "               'Day1Danger_OctagonBelowTreelineNorthEast': 'object',\n",
    "               'Day1Danger_OctagonBelowTreelineNorthWest': 'object',\n",
    "               'Day1Danger_OctagonBelowTreelineSouth': 'object',\n",
    "               'Day1Danger_OctagonBelowTreelineSouthEast': 'object',\n",
    "               'Day1Danger_OctagonBelowTreelineSouthWest': 'object',\n",
    "               'Day1Danger_OctagonBelowTreelineWest': 'object',\n",
    "               'Day1Danger_OctagonNearTreelineEast': 'object',\n",
    "               'Day1Danger_OctagonNearTreelineNorth': 'object',\n",
    "               'Day1Danger_OctagonNearTreelineNorthEast': 'object',\n",
    "               'Day1Danger_OctagonNearTreelineNorthWest': 'object',\n",
    "               'Day1Danger_OctagonNearTreelineSouth': 'object',\n",
    "               'Day1Danger_OctagonNearTreelineSouthEast': 'object',\n",
    "               'Day1Danger_OctagonNearTreelineSouthWest': 'object',\n",
    "               'Day1Danger_OctagonNearTreelineWest': 'object',\n",
    "               'SpecialStatement': 'object',\n",
    "               'image_paths': 'object',\n",
    "               'image_types': 'object',\n",
    "               'image_urls': 'object'})\n",
    "date_col = 'Day1Date'\n",
    "region_col = 'UnifiedRegion'\n",
    "labels['parsed_date'] = pd.to_datetime(labels[date_col], format='%Y%m%d')\n",
    "parsed_date_col = 'parsed_date'\n",
    "metadata_cols = [date_col, region_col]\n",
    "label_cols = ['Day1DangerBelowTreeline', 'Day1DangerNearTreeline', 'Day1DangerAboveTreeline']\n",
    "labels[region_col] = labels.apply(lambda x : lookup_forecast_region(x[region_col]), axis=1)\n",
    "labels = labels[labels[region_col]!='Unknown region']"
   ]
  },
  {
   "cell_type": "code",
   "execution_count": 12,
   "metadata": {},
   "outputs": [
    {
     "ename": "NameError",
     "evalue": "name 'region_data' is not defined",
     "output_type": "error",
     "traceback": [
      "\u001b[0;31m---------------------------------------------------------------------------\u001b[0m",
      "\u001b[0;31mNameError\u001b[0m                                 Traceback (most recent call last)",
      "\u001b[0;32m<ipython-input-12-97f83437ff8c>\u001b[0m in \u001b[0;36m<module>\u001b[0;34m\u001b[0m\n\u001b[1;32m      1\u001b[0m \u001b[0;31m#this demonstrates wihtin a region how much data we have versus masked out areas\u001b[0m\u001b[0;34m\u001b[0m\u001b[0;34m\u001b[0m\u001b[0;34m\u001b[0m\u001b[0m\n\u001b[0;32m----> 2\u001b[0;31m \u001b[0mregion_data\u001b[0m\u001b[0;34m[\u001b[0m\u001b[0;34m'Steamboat Zone'\u001b[0m\u001b[0;34m]\u001b[0m\u001b[0;34m.\u001b[0m\u001b[0misel\u001b[0m\u001b[0;34m(\u001b[0m\u001b[0mvar\u001b[0m\u001b[0;34m=\u001b[0m\u001b[0;36m2\u001b[0m\u001b[0;34m,\u001b[0m \u001b[0mtime\u001b[0m\u001b[0;34m=\u001b[0m\u001b[0;36m300\u001b[0m\u001b[0;34m,\u001b[0m \u001b[0mseason\u001b[0m\u001b[0;34m=\u001b[0m\u001b[0;36m0\u001b[0m\u001b[0;34m)\u001b[0m\u001b[0;34m.\u001b[0m\u001b[0mplot\u001b[0m\u001b[0;34m(\u001b[0m\u001b[0;34m)\u001b[0m\u001b[0;34m\u001b[0m\u001b[0;34m\u001b[0m\u001b[0m\n\u001b[0m",
      "\u001b[0;31mNameError\u001b[0m: name 'region_data' is not defined"
     ]
    }
   ],
   "source": [
    "#this demonstrates wihtin a region how much data we have versus masked out areas\n",
    "region_data['Steamboat Zone'].isel(var=2, time=300, season=0).plot()"
   ]
  },
  {
   "cell_type": "code",
   "execution_count": 22,
   "metadata": {},
   "outputs": [
    {
     "name": "stdout",
     "output_type": "stream",
     "text": [
      "Abajos\n",
      "Logan\n",
      "Moab\n",
      "Ogden\n",
      "Provo\n",
      "Salt Lake\n",
      "Skyline\n",
      "Uintas\n",
      "Grand Mesa Zone\n",
      "Sangre de Cristo Range\n",
      "Steamboat Zone\n",
      "Front Range Zone\n",
      "Vail Summit Zone\n",
      "Sawatch Zone\n",
      "Aspen Zone\n",
      "North San Juan Mountains\n",
      "South San Juan Mountains\n",
      "Gunnison Zone\n",
      "Mt Hood\n",
      "Olympics\n",
      "Snoqualmie Pass\n",
      "Stevens Pass\n",
      "WA Cascades East, Central\n",
      "WA Cascades East, North\n",
      "WA Cascades East, South\n",
      "WA Cascades West, Central\n",
      "WA Cascades West, Mt Baker\n",
      "WA Cascades West, South\n"
     ]
    }
   ],
   "source": [
    "#find union of all lat/lon/region\n",
    "#the process to filter the lat/lon is expensive but we need to do it here (1-2 mins per region)\n",
    "#as the helps the batch process select relevant data\n",
    "lat_lon_union = pd.DataFrame()\n",
    "for r in region_data.keys():\n",
    "    print(r)\n",
    "    region_df = region_data[r].stack(lat_lon_region = ('latitude', 'longitude', 'region')).lat_lon_region.to_dataframe()\n",
    "    tmp_df = pd.DataFrame.from_records(region_df['lat_lon_region'], columns=['latitude', 'longitude', region_col])\n",
    "    indexes_to_drop = []\n",
    "    for index, row in tmp_df.iterrows():\n",
    "        #TODO: there might be a more efficient way than doing this one by one?\n",
    "        if 0 == np.count_nonzero(region_data[r].sel(latitude=row['latitude'], longitude=row['longitude']).stack(time_var = ('season','time', 'var')).dropna(dim='time_var', how='all').values):\n",
    "            indexes_to_drop.append(index)\n",
    "    tmp_df.drop(indexes_to_drop, axis=0, inplace=True)\n",
    "    lat_lon_union = pd.concat([lat_lon_union, tmp_df])"
   ]
  },
  {
   "cell_type": "code",
   "execution_count": 25,
   "metadata": {},
   "outputs": [],
   "source": [
    "#cache the data\n",
    "lat_lon_union.to_csv('/media/scottcha/Data/Temp/GFSFiltered/lat_lon_union.csv')"
   ]
  },
  {
   "cell_type": "code",
   "execution_count": 13,
   "metadata": {},
   "outputs": [],
   "source": [
    "lat_lon_union = pd.read_csv('/media/scottcha/Data/Temp/GFSFiltered/lat_lon_union.csv',float_precision='round_trip')"
   ]
  },
  {
   "cell_type": "code",
   "execution_count": 14,
   "metadata": {},
   "outputs": [
    {
     "data": {
      "text/plain": [
       "(5445, 4)"
      ]
     },
     "execution_count": 14,
     "metadata": {},
     "output_type": "execute_result"
    }
   ],
   "source": [
    "lat_lon_union.shape"
   ]
  },
  {
   "cell_type": "code",
   "execution_count": 15,
   "metadata": {},
   "outputs": [],
   "source": [
    "lat_lon_union = lat_lon_union.set_index(region_col, drop=False).join(labels.set_index(region_col, drop=False), how='left', lsuffix='left', rsuffix='right')"
   ]
  },
  {
   "cell_type": "code",
   "execution_count": 13,
   "metadata": {},
   "outputs": [
    {
     "data": {
      "text/plain": [
       "(3791777, 296)"
      ]
     },
     "execution_count": 13,
     "metadata": {},
     "output_type": "execute_result"
    }
   ],
   "source": [
    "lat_lon_union.shape"
   ]
  },
  {
   "cell_type": "code",
   "execution_count": 16,
   "metadata": {},
   "outputs": [],
   "source": [
    "del labels"
   ]
  },
  {
   "cell_type": "code",
   "execution_count": 17,
   "metadata": {},
   "outputs": [],
   "source": [
    "def date_to_season(d):\n",
    "    if d >= np.datetime64('2014-11-01') and d <= np.datetime64('2015-04-30'):\n",
    "        return '14-15'\n",
    "    elif d >= np.datetime64('2015-11-01') and d <= np.datetime64('2016-04-30'):\n",
    "        return '15-16'\n",
    "    elif d >= np.datetime64('2016-11-01') and d <= np.datetime64('2017-04-30'):\n",
    "        return '16-17'\n",
    "    elif d >= np.datetime64('2017-11-01') and d <= np.datetime64('2018-04-30'):\n",
    "        return '17-18'\n",
    "    elif d >= np.datetime64('2018-11-01') and d <= np.datetime64('2019-04-30'):\n",
    "        return '18-19'\n",
    "    elif d >= np.datetime64('2019-11-01') and d <= np.datetime64('2020-04-30'):\n",
    "        return '19-20'\n",
    "    else:\n",
    "        print('Unknown season ' + str(d))\n",
    "        return 'Unknown'\n",
    "    "
   ]
  },
  {
   "cell_type": "code",
   "execution_count": 22,
   "metadata": {},
   "outputs": [],
   "source": [
    "#remove unnecessary dimensions (like region)\n",
    "for k in region_data.keys():\n",
    "    region_data[k] = region_data[k].squeeze()"
   ]
  },
  {
   "cell_type": "code",
   "execution_count": 23,
   "metadata": {},
   "outputs": [],
   "source": [
    "\n",
    "def get_xr_batch(all_data, labels, lookback_days=14, batch_size=64, y_column='Day1DangerAboveTreeline'):\n",
    "    labels_data = labels\n",
    "    \n",
    "    X = None     \n",
    "    y = None \n",
    "\n",
    "    first = True\n",
    "    first_y = True\n",
    "    num_in_place = 0\n",
    "    \n",
    "    while num_in_place < batch_size:\n",
    "        if not first:\n",
    "            #if we didn't meet the full batch size \n",
    "            #continue appending until its full\n",
    "            #if num_in_place % 5 == 0:\n",
    "            print('Filling remaining have ' + str(num_in_place))\n",
    "            sample_size = batch_size-num_in_place\n",
    "            if sample_size < 4:\n",
    "                sample_size = 4\n",
    "        else: \n",
    "            sample_size = batch_size\n",
    "        \n",
    "        #get 1/4 of the data from 'High' and 1/4 from low\n",
    "        #this is basically a naive oversampling strategy since Low/High \n",
    "        #populations are much smaller that moderate/considerable\n",
    "        #TODO: add Extreme in (or possibly make it high)\n",
    "        batch_lookup_low = labels_data[labels_data[y_column]=='Low'].sample(int(sample_size/4), random_state=1)\n",
    "        batch_lookup_moderate = labels_data[labels_data[y_column]=='Moderate'].sample(int(sample_size/4), random_state=1)\n",
    "        batch_lookup_considerable = labels_data[labels_data[y_column]=='Considerable'].sample(int(sample_size/4), random_state=1)\n",
    "        batch_lookup_high = labels_data[labels_data[y_column]=='High'].sample(int(sample_size/4), random_state=1)\n",
    "        \n",
    "        #remove moderate and considerable \n",
    "        labels_data = labels_data.drop(batch_lookup_moderate.index, axis=0)\n",
    "        labels_data = labels_data.drop(batch_lookup_considerable.index, axis=0)\n",
    "        \n",
    "        #sample frac=1 causes the data to be shuffled\n",
    "        batch_lookup = pd.concat([batch_lookup_low,batch_lookup_moderate,batch_lookup_considerable,batch_lookup_high]).sample(frac=1)\n",
    "        for _, row in batch_lookup.iterrows():\n",
    "            d = row[parsed_date_col]\n",
    "            lat = row['latitude']\n",
    "            lon = row['longitude']\n",
    "            reg = row[region_col]            \n",
    "            #TODO: would be nice and improve perf if we could get all the lat/lon from a region at once\n",
    "            season = date_to_season(d)            \n",
    "            data = all_data[reg].sel(latitude=lat, longitude=lon, season=season).sel(time = slice(d + np.timedelta64(-1 * lookback_days, 'D'), d))\n",
    "            #reset the time index so we can align when concating\n",
    "            data = data.reset_index(dims_or_levels='time', drop=True)\n",
    "            if data.time.shape[0]-1 != lookback_days:                \n",
    "                batch_lookup = batch_lookup.drop(_, axis=0)\n",
    "                continue\n",
    "\n",
    "            #this is a serious perf penalty, need to figure out a better way to do this\n",
    "            #while keeping X and y aligned            \n",
    "            tmp = data.values.copy()            \n",
    "            tmp[tmp==0] = np.nan #in some cases there is only 0 data, setting 0 to nan to filter\n",
    "            if np.isnan(tmp).all():\n",
    "                #clean up any values which are all nan\n",
    "                batch_lookup = batch_lookup.drop(_, axis=0)\n",
    "                continue\n",
    "            \n",
    "            #data = data.drop_dims(['region', 'season'])\n",
    "            if first:\n",
    "                X = data\n",
    "                first = False        \n",
    "            else:\n",
    "                X = xr.concat([X, data], dim='sample')\n",
    "        \n",
    "        if first_y:\n",
    "            y = batch_lookup\n",
    "            first_y = False\n",
    "        else:\n",
    "            y = pd.concat([y, batch_lookup], axis=0)\n",
    "        num_in_place = y.shape[0]\n",
    "                \n",
    "    y = y.reset_index(drop=True)\n",
    "            \n",
    "    return X, y, labels_data\n",
    "\n",
    "\n",
    "\n",
    "\n",
    "\n"
   ]
  },
  {
   "cell_type": "code",
   "execution_count": 24,
   "metadata": {},
   "outputs": [],
   "source": [
    "date_min = np.datetime64('2015-11-01')\n",
    "date_max = np.datetime64('2017-04-30')\n",
    "train_date_cutoff = np.datetime64('2016-04-30')\n"
   ]
  },
  {
   "cell_type": "code",
   "execution_count": 25,
   "metadata": {},
   "outputs": [],
   "source": [
    "labels_data_union = lat_lon_union[lat_lon_union[parsed_date_col] >= date_min]\n",
    "labels_data_union = labels_data_union[labels_data_union[parsed_date_col] <= date_max]\n",
    "#copy so we can delete the overall data and only keep the filtered\n",
    "labels_data_train = labels_data_union[labels_data_union[parsed_date_col] <= train_date_cutoff].copy()\n",
    "labels_data_test = labels_data_union[labels_data_union[parsed_date_col] > train_date_cutoff].copy()\n"
   ]
  },
  {
   "cell_type": "code",
   "execution_count": 26,
   "metadata": {},
   "outputs": [],
   "source": [
    "labels_data_train.reset_index(inplace=True)\n",
    "labels_data_test.reset_index(inplace=True)"
   ]
  },
  {
   "cell_type": "code",
   "execution_count": 27,
   "metadata": {},
   "outputs": [
    {
     "data": {
      "text/plain": [
       "(764822, 297)"
      ]
     },
     "execution_count": 27,
     "metadata": {},
     "output_type": "execute_result"
    }
   ],
   "source": [
    "labels_data_train.shape"
   ]
  },
  {
   "cell_type": "code",
   "execution_count": 28,
   "metadata": {},
   "outputs": [],
   "source": [
    "del lat_lon_union"
   ]
  },
  {
   "cell_type": "code",
   "execution_count": 29,
   "metadata": {},
   "outputs": [
    {
     "data": {
      "text/plain": [
       "31"
      ]
     },
     "execution_count": 29,
     "metadata": {},
     "output_type": "execute_result"
    }
   ],
   "source": [
    "import gc\n",
    "gc.collect()"
   ]
  },
  {
   "cell_type": "code",
   "execution_count": 24,
   "metadata": {},
   "outputs": [
    {
     "name": "stdout",
     "output_type": "stream",
     "text": [
      "Filling remaining have 387\n",
      "Filling remaining have 471\n",
      "Filling remaining have 503\n",
      "Filling remaining have 506\n",
      "Filling remaining have 508\n",
      "Filling remaining have 510\n",
      "Filling remaining have 511\n",
      "CPU times: user 1min 46s, sys: 13.4 s, total: 1min 59s\n",
      "Wall time: 2min 26s\n"
     ]
    }
   ],
   "source": [
    "%time X_train, y_train, remaining_labels_train = get_xr_batch(region_data, labels_data_train, 180, 512)"
   ]
  },
  {
   "cell_type": "code",
   "execution_count": 26,
   "metadata": {},
   "outputs": [
    {
     "data": {
      "text/html": [
       "<pre>&lt;xarray.DataArray &#x27;stack-b5c21a027fa0e206946a4b4f2c426b3e&#x27; (sample: 512, var: 810, time: 181)&gt;\n",
       "dask.array&lt;vectorize_func_interpolate_na, shape=(512, 810, 181), dtype=float32, chunksize=(1, 810, 181), chunktype=numpy.ndarray&gt;\n",
       "Coordinates:\n",
       "    season     &lt;U5 &#x27;15-16&#x27;\n",
       "    variable   &lt;U29 &#x27;__xarray_dataarray_variable__&#x27;\n",
       "  * var        (var) object &quot;(0, &#x27;level_depthBelowLandLayer_avg_soilw&#x27;)&quot; ... &#x27;level_unknown_min_v&#x27;\n",
       "    latitude   (sample) float64 37.58 48.76 39.17 38.68 ... 37.64 37.64 37.64\n",
       "    longitude  (sample) float64 252.0 239.8 253.4 254.8 ... 252.0 252.0 252.0\n",
       "    region     (sample) &lt;U26 &#x27;South San Juan Mountains&#x27; ... &#x27;North San Juan Mountains&#x27;\n",
       "Dimensions without coordinates: sample, time</pre>"
      ],
      "text/plain": [
       "<xarray.DataArray 'stack-b5c21a027fa0e206946a4b4f2c426b3e' (sample: 512, var: 810, time: 181)>\n",
       "dask.array<vectorize_func_interpolate_na, shape=(512, 810, 181), dtype=float32, chunksize=(1, 810, 181), chunktype=numpy.ndarray>\n",
       "Coordinates:\n",
       "    season     <U5 '15-16'\n",
       "    variable   <U29 '__xarray_dataarray_variable__'\n",
       "  * var        (var) object \"(0, 'level_depthBelowLandLayer_avg_soilw')\" ... 'level_unknown_min_v'\n",
       "    latitude   (sample) float64 37.58 48.76 39.17 38.68 ... 37.64 37.64 37.64\n",
       "    longitude  (sample) float64 252.0 239.8 253.4 254.8 ... 252.0 252.0 252.0\n",
       "    region     (sample) <U26 'South San Juan Mountains' ... 'North San Juan Mountains'\n",
       "Dimensions without coordinates: sample, time"
      ]
     },
     "execution_count": 26,
     "metadata": {},
     "output_type": "execute_result"
    }
   ],
   "source": [
    "X_train"
   ]
  },
  {
   "cell_type": "code",
   "execution_count": 27,
   "metadata": {},
   "outputs": [
    {
     "data": {
      "text/plain": [
       "(512, 810, 181)"
      ]
     },
     "execution_count": 27,
     "metadata": {},
     "output_type": "execute_result"
    }
   ],
   "source": [
    "X_train.shape"
   ]
  },
  {
   "cell_type": "code",
   "execution_count": 28,
   "metadata": {},
   "outputs": [
    {
     "data": {
      "text/plain": [
       "(512,)"
      ]
     },
     "execution_count": 28,
     "metadata": {},
     "output_type": "execute_result"
    }
   ],
   "source": [
    "y_train['Day1DangerAboveTreeline'].shape"
   ]
  },
  {
   "cell_type": "code",
   "execution_count": 77,
   "metadata": {},
   "outputs": [
    {
     "data": {
      "text/plain": [
       "(764822, 297)"
      ]
     },
     "execution_count": 77,
     "metadata": {},
     "output_type": "execute_result"
    }
   ],
   "source": [
    "labels_data_train.shape"
   ]
  },
  {
   "cell_type": "code",
   "execution_count": 78,
   "metadata": {},
   "outputs": [
    {
     "data": {
      "text/plain": [
       "(764132, 297)"
      ]
     },
     "execution_count": 78,
     "metadata": {},
     "output_type": "execute_result"
    }
   ],
   "source": [
    "remaining_labels_train.shape"
   ]
  },
  {
   "cell_type": "code",
   "execution_count": 37,
   "metadata": {},
   "outputs": [
    {
     "data": {
      "text/plain": [
       "75064320"
      ]
     },
     "execution_count": 37,
     "metadata": {},
     "output_type": "execute_result"
    }
   ],
   "source": [
    "X_train.nbytes"
   ]
  },
  {
   "cell_type": "code",
   "execution_count": 58,
   "metadata": {},
   "outputs": [
    {
     "data": {
      "text/html": [
       "<pre>&lt;xarray.DataArray &#x27;stack-ea169a3d29dad35e6e2a49c16bd15a5e&#x27; (sample: 256, var: 810, time: 181)&gt;\n",
       "dask.array&lt;concatenate, shape=(256, 810, 181), dtype=float32, chunksize=(1, 810, 181), chunktype=numpy.ndarray&gt;\n",
       "Coordinates:\n",
       "    variable   &lt;U29 &#x27;__xarray_dataarray_variable__&#x27;\n",
       "    season     &lt;U5 &#x27;15-16&#x27;\n",
       "  * var        (var) object &quot;(0, &#x27;level_depthBelowLandLayer_avg_soilw&#x27;)&quot; ... &#x27;level_unknown_min_v&#x27;\n",
       "    longitude  (sample) float64 252.4 254.4 248.8 254.5 ... 248.4 254.0 254.3\n",
       "    latitude   (sample) float64 38.98 39.47 39.17 40.93 ... 41.11 39.9 39.35\n",
       "    region     (sample) &lt;U24 &#x27;Grand Mesa Zone&#x27; ... &#x27;Front Range Zone&#x27;\n",
       "Dimensions without coordinates: sample, time</pre>"
      ],
      "text/plain": [
       "<xarray.DataArray 'stack-ea169a3d29dad35e6e2a49c16bd15a5e' (sample: 256, var: 810, time: 181)>\n",
       "dask.array<concatenate, shape=(256, 810, 181), dtype=float32, chunksize=(1, 810, 181), chunktype=numpy.ndarray>\n",
       "Coordinates:\n",
       "    variable   <U29 '__xarray_dataarray_variable__'\n",
       "    season     <U5 '15-16'\n",
       "  * var        (var) object \"(0, 'level_depthBelowLandLayer_avg_soilw')\" ... 'level_unknown_min_v'\n",
       "    longitude  (sample) float64 252.4 254.4 248.8 254.5 ... 248.4 254.0 254.3\n",
       "    latitude   (sample) float64 38.98 39.47 39.17 40.93 ... 41.11 39.9 39.35\n",
       "    region     (sample) <U24 'Grand Mesa Zone' ... 'Front Range Zone'\n",
       "Dimensions without coordinates: sample, time"
      ]
     },
     "execution_count": 58,
     "metadata": {},
     "output_type": "execute_result"
    }
   ],
   "source": [
    "X_train"
   ]
  },
  {
   "cell_type": "code",
   "execution_count": 59,
   "metadata": {},
   "outputs": [
    {
     "data": {
      "text/html": [
       "<div>\n",
       "<style scoped>\n",
       "    .dataframe tbody tr th:only-of-type {\n",
       "        vertical-align: middle;\n",
       "    }\n",
       "\n",
       "    .dataframe tbody tr th {\n",
       "        vertical-align: top;\n",
       "    }\n",
       "\n",
       "    .dataframe thead th {\n",
       "        text-align: right;\n",
       "    }\n",
       "</style>\n",
       "<table border=\"1\" class=\"dataframe\">\n",
       "  <thead>\n",
       "    <tr style=\"text-align: right;\">\n",
       "      <th></th>\n",
       "      <th>UnifiedRegion</th>\n",
       "      <th>Unnamed: 0</th>\n",
       "      <th>latitude</th>\n",
       "      <th>longitude</th>\n",
       "      <th>UnifiedRegionleft</th>\n",
       "      <th>Cornices_Likelihood</th>\n",
       "      <th>Cornices_MaximumSize</th>\n",
       "      <th>Cornices_MinimumSize</th>\n",
       "      <th>Cornices_OctagonAboveTreelineEast</th>\n",
       "      <th>Cornices_OctagonAboveTreelineNorth</th>\n",
       "      <th>...</th>\n",
       "      <th>WindSlab_OctagonNearTreelineNorthWest</th>\n",
       "      <th>WindSlab_OctagonNearTreelineSouth</th>\n",
       "      <th>WindSlab_OctagonNearTreelineSouthEast</th>\n",
       "      <th>WindSlab_OctagonNearTreelineSouthWest</th>\n",
       "      <th>WindSlab_OctagonNearTreelineWest</th>\n",
       "      <th>image_paths</th>\n",
       "      <th>image_types</th>\n",
       "      <th>image_urls</th>\n",
       "      <th>rose_url</th>\n",
       "      <th>parsed_date</th>\n",
       "    </tr>\n",
       "  </thead>\n",
       "  <tbody>\n",
       "    <tr>\n",
       "      <th>0</th>\n",
       "      <td>Abajos</td>\n",
       "      <td>1</td>\n",
       "      <td>37.704348</td>\n",
       "      <td>250.223464</td>\n",
       "      <td>Abajos</td>\n",
       "      <td>no-data</td>\n",
       "      <td>no-data</td>\n",
       "      <td>no-data</td>\n",
       "      <td>no-data</td>\n",
       "      <td>no-data</td>\n",
       "      <td>...</td>\n",
       "      <td>no-data</td>\n",
       "      <td>no-data</td>\n",
       "      <td>no-data</td>\n",
       "      <td>no-data</td>\n",
       "      <td>no-data</td>\n",
       "      <td>full/c74aa21a401ef9c42e3ee835fd229ce5d3f9b367....</td>\n",
       "      <td>Forecast,</td>\n",
       "      <td>https://utahavalanchecenter.org/sites/default/...</td>\n",
       "      <td>NaN</td>\n",
       "      <td>2016-12-03</td>\n",
       "    </tr>\n",
       "    <tr>\n",
       "      <th>1</th>\n",
       "      <td>Abajos</td>\n",
       "      <td>1</td>\n",
       "      <td>37.704348</td>\n",
       "      <td>250.223464</td>\n",
       "      <td>Abajos</td>\n",
       "      <td>no-data</td>\n",
       "      <td>no-data</td>\n",
       "      <td>no-data</td>\n",
       "      <td>no-data</td>\n",
       "      <td>no-data</td>\n",
       "      <td>...</td>\n",
       "      <td>no-data</td>\n",
       "      <td>no-data</td>\n",
       "      <td>no-data</td>\n",
       "      <td>no-data</td>\n",
       "      <td>no-data</td>\n",
       "      <td>full/87889967c3f5a0c6da2b95e0342bec1dd2fab16f....</td>\n",
       "      <td>Forecast,</td>\n",
       "      <td>https://utahavalanchecenter.org/sites/default/...</td>\n",
       "      <td>NaN</td>\n",
       "      <td>2016-12-04</td>\n",
       "    </tr>\n",
       "    <tr>\n",
       "      <th>2</th>\n",
       "      <td>Abajos</td>\n",
       "      <td>1</td>\n",
       "      <td>37.704348</td>\n",
       "      <td>250.223464</td>\n",
       "      <td>Abajos</td>\n",
       "      <td>no-data</td>\n",
       "      <td>no-data</td>\n",
       "      <td>no-data</td>\n",
       "      <td>no-data</td>\n",
       "      <td>no-data</td>\n",
       "      <td>...</td>\n",
       "      <td>no-data</td>\n",
       "      <td>no-data</td>\n",
       "      <td>no-data</td>\n",
       "      <td>no-data</td>\n",
       "      <td>no-data</td>\n",
       "      <td>full/76ffa189cee1fc1a57e3d4790c1247dca09ea38b....</td>\n",
       "      <td>Forecast,</td>\n",
       "      <td>https://utahavalanchecenter.org/sites/default/...</td>\n",
       "      <td>NaN</td>\n",
       "      <td>2016-12-05</td>\n",
       "    </tr>\n",
       "    <tr>\n",
       "      <th>3</th>\n",
       "      <td>Abajos</td>\n",
       "      <td>1</td>\n",
       "      <td>37.704348</td>\n",
       "      <td>250.223464</td>\n",
       "      <td>Abajos</td>\n",
       "      <td>no-data</td>\n",
       "      <td>no-data</td>\n",
       "      <td>no-data</td>\n",
       "      <td>no-data</td>\n",
       "      <td>no-data</td>\n",
       "      <td>...</td>\n",
       "      <td>no-data</td>\n",
       "      <td>no-data</td>\n",
       "      <td>no-data</td>\n",
       "      <td>no-data</td>\n",
       "      <td>no-data</td>\n",
       "      <td>full/4fcd04dac5c10ba4839809e885670222ade2b27e....</td>\n",
       "      <td>Forecast,</td>\n",
       "      <td>https://utahavalanchecenter.org/sites/default/...</td>\n",
       "      <td>NaN</td>\n",
       "      <td>2016-12-07</td>\n",
       "    </tr>\n",
       "    <tr>\n",
       "      <th>4</th>\n",
       "      <td>Abajos</td>\n",
       "      <td>1</td>\n",
       "      <td>37.704348</td>\n",
       "      <td>250.223464</td>\n",
       "      <td>Abajos</td>\n",
       "      <td>no-data</td>\n",
       "      <td>no-data</td>\n",
       "      <td>no-data</td>\n",
       "      <td>no-data</td>\n",
       "      <td>no-data</td>\n",
       "      <td>...</td>\n",
       "      <td>no-data</td>\n",
       "      <td>no-data</td>\n",
       "      <td>no-data</td>\n",
       "      <td>no-data</td>\n",
       "      <td>no-data</td>\n",
       "      <td>full/f207156265f4a2c2c26554380fab3eb04a5e04a2....</td>\n",
       "      <td>Forecast,</td>\n",
       "      <td>https://utahavalanchecenter.org/sites/default/...</td>\n",
       "      <td>NaN</td>\n",
       "      <td>2016-12-09</td>\n",
       "    </tr>\n",
       "  </tbody>\n",
       "</table>\n",
       "<p>5 rows × 297 columns</p>\n",
       "</div>"
      ],
      "text/plain": [
       "  UnifiedRegion  Unnamed: 0   latitude   longitude UnifiedRegionleft  \\\n",
       "0        Abajos           1  37.704348  250.223464            Abajos   \n",
       "1        Abajos           1  37.704348  250.223464            Abajos   \n",
       "2        Abajos           1  37.704348  250.223464            Abajos   \n",
       "3        Abajos           1  37.704348  250.223464            Abajos   \n",
       "4        Abajos           1  37.704348  250.223464            Abajos   \n",
       "\n",
       "  Cornices_Likelihood Cornices_MaximumSize Cornices_MinimumSize  \\\n",
       "0             no-data              no-data              no-data   \n",
       "1             no-data              no-data              no-data   \n",
       "2             no-data              no-data              no-data   \n",
       "3             no-data              no-data              no-data   \n",
       "4             no-data              no-data              no-data   \n",
       "\n",
       "  Cornices_OctagonAboveTreelineEast Cornices_OctagonAboveTreelineNorth  ...  \\\n",
       "0                           no-data                            no-data  ...   \n",
       "1                           no-data                            no-data  ...   \n",
       "2                           no-data                            no-data  ...   \n",
       "3                           no-data                            no-data  ...   \n",
       "4                           no-data                            no-data  ...   \n",
       "\n",
       "  WindSlab_OctagonNearTreelineNorthWest WindSlab_OctagonNearTreelineSouth  \\\n",
       "0                               no-data                           no-data   \n",
       "1                               no-data                           no-data   \n",
       "2                               no-data                           no-data   \n",
       "3                               no-data                           no-data   \n",
       "4                               no-data                           no-data   \n",
       "\n",
       "  WindSlab_OctagonNearTreelineSouthEast WindSlab_OctagonNearTreelineSouthWest  \\\n",
       "0                               no-data                               no-data   \n",
       "1                               no-data                               no-data   \n",
       "2                               no-data                               no-data   \n",
       "3                               no-data                               no-data   \n",
       "4                               no-data                               no-data   \n",
       "\n",
       "  WindSlab_OctagonNearTreelineWest  \\\n",
       "0                          no-data   \n",
       "1                          no-data   \n",
       "2                          no-data   \n",
       "3                          no-data   \n",
       "4                          no-data   \n",
       "\n",
       "                                         image_paths image_types  \\\n",
       "0  full/c74aa21a401ef9c42e3ee835fd229ce5d3f9b367....   Forecast,   \n",
       "1  full/87889967c3f5a0c6da2b95e0342bec1dd2fab16f....   Forecast,   \n",
       "2  full/76ffa189cee1fc1a57e3d4790c1247dca09ea38b....   Forecast,   \n",
       "3  full/4fcd04dac5c10ba4839809e885670222ade2b27e....   Forecast,   \n",
       "4  full/f207156265f4a2c2c26554380fab3eb04a5e04a2....   Forecast,   \n",
       "\n",
       "                                          image_urls rose_url parsed_date  \n",
       "0  https://utahavalanchecenter.org/sites/default/...      NaN  2016-12-03  \n",
       "1  https://utahavalanchecenter.org/sites/default/...      NaN  2016-12-04  \n",
       "2  https://utahavalanchecenter.org/sites/default/...      NaN  2016-12-05  \n",
       "3  https://utahavalanchecenter.org/sites/default/...      NaN  2016-12-07  \n",
       "4  https://utahavalanchecenter.org/sites/default/...      NaN  2016-12-09  \n",
       "\n",
       "[5 rows x 297 columns]"
      ]
     },
     "execution_count": 59,
     "metadata": {},
     "output_type": "execute_result"
    }
   ],
   "source": [
    "labels_data_test.head()"
   ]
  },
  {
   "cell_type": "code",
   "execution_count": 30,
   "metadata": {},
   "outputs": [
    {
     "name": "stdout",
     "output_type": "stream",
     "text": [
      "Filling remaining have 366\n",
      "Filling remaining have 474\n",
      "Filling remaining have 501\n",
      "Filling remaining have 506\n",
      "Filling remaining have 509\n",
      "CPU times: user 1min 29s, sys: 11.7 s, total: 1min 41s\n",
      "Wall time: 2min 16s\n"
     ]
    }
   ],
   "source": [
    "%time X_test, y_test, remaining_labels_test = get_xr_batch(region_data, labels_data_test, lookback_days=180, batch_size=512)"
   ]
  },
  {
   "cell_type": "code",
   "execution_count": 31,
   "metadata": {},
   "outputs": [],
   "source": [
    "X_train = X_train.interpolate_na('time')\n",
    "X_test = X_test.interpolate_na('time')\n"
   ]
  },
  {
   "cell_type": "code",
   "execution_count": 32,
   "metadata": {},
   "outputs": [],
   "source": [
    "def xr_batch_to_tsfresh_df(xr_batch):\n",
    "    xr_batch = xr_batch.dropna(dim='var', how='all')\n",
    "    stacked = xr_batch.stack(tsdata=('sample', 'time', 'var')).to_dataframe().iloc[:,[-1]]\n",
    "    stacked.columns = ['value']\n",
    "    stacked.reset_index(inplace=True)\n",
    "    stacked.columns = ['id', 'time', 'kind', 'value']\n",
    "    stacked.dropna(how='any', inplace=True)\n",
    "    return stacked"
   ]
  },
  {
   "cell_type": "code",
   "execution_count": 27,
   "metadata": {},
   "outputs": [
    {
     "name": "stdout",
     "output_type": "stream",
     "text": [
      "CPU times: user 46.5 s, sys: 11.5 s, total: 58 s\n",
      "Wall time: 1min 1s\n"
     ]
    }
   ],
   "source": [
    "%time tsfresh_data = xr_batch_to_tsfresh_df(X_train)"
   ]
  },
  {
   "cell_type": "code",
   "execution_count": 33,
   "metadata": {},
   "outputs": [
    {
     "name": "stdout",
     "output_type": "stream",
     "text": [
      "CPU times: user 47.2 s, sys: 11 s, total: 58.2 s\n",
      "Wall time: 1min 1s\n"
     ]
    }
   ],
   "source": [
    "%time tsfresh_data_test = xr_batch_to_tsfresh_df(X_test)"
   ]
  },
  {
   "cell_type": "code",
   "execution_count": 29,
   "metadata": {},
   "outputs": [],
   "source": [
    "tsfresh_data.to_csv('/media/scottcha/Data/Temp/GFSFiltered/training_tsfresh_data.csv')\n",
    "y_train.to_csv('/media/scottcha/Data/Temp/GFSFiltered/y_train.csv')"
   ]
  },
  {
   "cell_type": "code",
   "execution_count": 34,
   "metadata": {},
   "outputs": [],
   "source": [
    "tsfresh_data_test.to_csv('/media/scottcha/Data/Temp/GFSFiltered/test_tsfresh_data.csv')\n",
    "y_test.to_csv('/media/scottcha/Data/Temp/GFSFiltered/y_test.csv')"
   ]
  },
  {
   "cell_type": "code",
   "execution_count": 1,
   "metadata": {},
   "outputs": [],
   "source": [
    "import pandas as pd\n",
    "tsfresh_data = pd.read_csv('/media/scottcha/Data/Temp/GFSFiltered/training_tsfresh_data.csv')\n",
    "y_train = pd.read_csv('/media/scottcha/Data/Temp/GFSFiltered/y_train.csv')"
   ]
  },
  {
   "cell_type": "code",
   "execution_count": 25,
   "metadata": {},
   "outputs": [],
   "source": [
    "y_train = pd.read_csv('/media/scottcha/Data/Temp/GFSFiltered/y_train.csv')"
   ]
  },
  {
   "cell_type": "code",
   "execution_count": 1,
   "metadata": {},
   "outputs": [],
   "source": [
    "import pandas as pd\n",
    "tsfresh_data_test = pd.read_csv('/media/scottcha/Data/Temp/GFSFiltered/test_tsfresh_data.csv')\n",
    "y_test = pd.read_csv('/media/scottcha/Data/Temp/GFSFiltered/y_test.csv')"
   ]
  },
  {
   "cell_type": "code",
   "execution_count": 26,
   "metadata": {},
   "outputs": [],
   "source": [
    "y_test = pd.read_csv('/media/scottcha/Data/Temp/GFSFiltered/y_test.csv')"
   ]
  },
  {
   "cell_type": "code",
   "execution_count": 2,
   "metadata": {},
   "outputs": [
    {
     "data": {
      "text/plain": [
       "False"
      ]
     },
     "execution_count": 2,
     "metadata": {},
     "output_type": "execute_result"
    }
   ],
   "source": [
    "import numpy as np\n",
    "np.isnan(tsfresh_data['value']).any()"
   ]
  },
  {
   "cell_type": "code",
   "execution_count": 2,
   "metadata": {},
   "outputs": [],
   "source": [
    "tsfresh_data = tsfresh_data[['id', 'time', 'kind', 'value']]"
   ]
  },
  {
   "cell_type": "code",
   "execution_count": 9,
   "metadata": {},
   "outputs": [
    {
     "data": {
      "text/plain": [
       "(66555078, 4)"
      ]
     },
     "execution_count": 9,
     "metadata": {},
     "output_type": "execute_result"
    }
   ],
   "source": [
    "tsfresh_data.shape"
   ]
  },
  {
   "cell_type": "code",
   "execution_count": 6,
   "metadata": {},
   "outputs": [
    {
     "data": {
      "text/plain": [
       "735"
      ]
     },
     "execution_count": 6,
     "metadata": {},
     "output_type": "execute_result"
    }
   ],
   "source": [
    "len(tsfresh_data['kind'].unique())"
   ]
  },
  {
   "cell_type": "code",
   "execution_count": 8,
   "metadata": {},
   "outputs": [
    {
     "data": {
      "text/html": [
       "<div>\n",
       "<style scoped>\n",
       "    .dataframe tbody tr th:only-of-type {\n",
       "        vertical-align: middle;\n",
       "    }\n",
       "\n",
       "    .dataframe tbody tr th {\n",
       "        vertical-align: top;\n",
       "    }\n",
       "\n",
       "    .dataframe thead th {\n",
       "        text-align: right;\n",
       "    }\n",
       "</style>\n",
       "<table border=\"1\" class=\"dataframe\">\n",
       "  <thead>\n",
       "    <tr style=\"text-align: right;\">\n",
       "      <th></th>\n",
       "      <th>id</th>\n",
       "      <th>time</th>\n",
       "      <th>kind</th>\n",
       "      <th>value</th>\n",
       "    </tr>\n",
       "  </thead>\n",
       "  <tbody>\n",
       "    <tr>\n",
       "      <th>0</th>\n",
       "      <td>0</td>\n",
       "      <td>0</td>\n",
       "      <td>(0, 'level_depthBelowLandLayer_avg_soilw')</td>\n",
       "      <td>0.000000</td>\n",
       "    </tr>\n",
       "    <tr>\n",
       "      <th>1</th>\n",
       "      <td>0</td>\n",
       "      <td>0</td>\n",
       "      <td>(0, 'level_depthBelowLandLayer_avg_st')</td>\n",
       "      <td>0.000000</td>\n",
       "    </tr>\n",
       "    <tr>\n",
       "      <th>2</th>\n",
       "      <td>0</td>\n",
       "      <td>0</td>\n",
       "      <td>(0, 'level_depthBelowLandLayer_max_soilw')</td>\n",
       "      <td>0.000000</td>\n",
       "    </tr>\n",
       "    <tr>\n",
       "      <th>3</th>\n",
       "      <td>0</td>\n",
       "      <td>0</td>\n",
       "      <td>(0, 'level_depthBelowLandLayer_max_st')</td>\n",
       "      <td>0.000000</td>\n",
       "    </tr>\n",
       "    <tr>\n",
       "      <th>4</th>\n",
       "      <td>0</td>\n",
       "      <td>0</td>\n",
       "      <td>(0, 'level_depthBelowLandLayer_min_soilw')</td>\n",
       "      <td>0.000000</td>\n",
       "    </tr>\n",
       "    <tr>\n",
       "      <th>...</th>\n",
       "      <td>...</td>\n",
       "      <td>...</td>\n",
       "      <td>...</td>\n",
       "      <td>...</td>\n",
       "    </tr>\n",
       "    <tr>\n",
       "      <th>66554468</th>\n",
       "      <td>511</td>\n",
       "      <td>180</td>\n",
       "      <td>(150, 'level_isobaricInhPa_min_r')</td>\n",
       "      <td>2.229109</td>\n",
       "    </tr>\n",
       "    <tr>\n",
       "      <th>66554469</th>\n",
       "      <td>511</td>\n",
       "      <td>180</td>\n",
       "      <td>(150, 'level_isobaricInhPa_min_t')</td>\n",
       "      <td>213.158340</td>\n",
       "    </tr>\n",
       "    <tr>\n",
       "      <th>66554470</th>\n",
       "      <td>511</td>\n",
       "      <td>180</td>\n",
       "      <td>(150, 'level_isobaricInhPa_min_u')</td>\n",
       "      <td>15.767248</td>\n",
       "    </tr>\n",
       "    <tr>\n",
       "      <th>66554471</th>\n",
       "      <td>511</td>\n",
       "      <td>180</td>\n",
       "      <td>(150, 'level_isobaricInhPa_min_v')</td>\n",
       "      <td>-23.473888</td>\n",
       "    </tr>\n",
       "    <tr>\n",
       "      <th>66554472</th>\n",
       "      <td>511</td>\n",
       "      <td>180</td>\n",
       "      <td>(2, 'level_potentialVorticity_avg_gh')</td>\n",
       "      <td>11301.301000</td>\n",
       "    </tr>\n",
       "  </tbody>\n",
       "</table>\n",
       "<p>8956376 rows × 4 columns</p>\n",
       "</div>"
      ],
      "text/plain": [
       "           id  time                                        kind         value\n",
       "0           0     0  (0, 'level_depthBelowLandLayer_avg_soilw')      0.000000\n",
       "1           0     0     (0, 'level_depthBelowLandLayer_avg_st')      0.000000\n",
       "2           0     0  (0, 'level_depthBelowLandLayer_max_soilw')      0.000000\n",
       "3           0     0     (0, 'level_depthBelowLandLayer_max_st')      0.000000\n",
       "4           0     0  (0, 'level_depthBelowLandLayer_min_soilw')      0.000000\n",
       "...       ...   ...                                         ...           ...\n",
       "66554468  511   180          (150, 'level_isobaricInhPa_min_r')      2.229109\n",
       "66554469  511   180          (150, 'level_isobaricInhPa_min_t')    213.158340\n",
       "66554470  511   180          (150, 'level_isobaricInhPa_min_u')     15.767248\n",
       "66554471  511   180          (150, 'level_isobaricInhPa_min_v')    -23.473888\n",
       "66554472  511   180      (2, 'level_potentialVorticity_avg_gh')  11301.301000\n",
       "\n",
       "[8956376 rows x 4 columns]"
      ]
     },
     "execution_count": 8,
     "metadata": {},
     "output_type": "execute_result"
    }
   ],
   "source": [
    "tsfresh_data[tsfresh_data['kind'].isin(tsfresh_data['kind'].values[0:50])]"
   ]
  },
  {
   "cell_type": "code",
   "execution_count": 6,
   "metadata": {},
   "outputs": [
    {
     "data": {
      "text/plain": [
       "123    133017\n",
       "317    132735\n",
       "82     132615\n",
       "119    132603\n",
       "118    132585\n",
       "        ...  \n",
       "277    126522\n",
       "272    126522\n",
       "377    126522\n",
       "279    126327\n",
       "169    126261\n",
       "Name: id, Length: 512, dtype: int64"
      ]
     },
     "execution_count": 6,
     "metadata": {},
     "output_type": "execute_result"
    }
   ],
   "source": [
    "tsfresh_data['id'].value_counts()"
   ]
  },
  {
   "cell_type": "code",
   "execution_count": 3,
   "metadata": {},
   "outputs": [],
   "source": [
    "from tsfresh import extract_relevant_features"
   ]
  },
  {
   "cell_type": "code",
   "execution_count": 4,
   "metadata": {},
   "outputs": [],
   "source": [
    "relevant_features =[]"
   ]
  },
  {
   "cell_type": "code",
   "execution_count": 5,
   "metadata": {},
   "outputs": [
    {
     "name": "stdout",
     "output_type": "stream",
     "text": [
      "On i: 0\n"
     ]
    },
    {
     "name": "stderr",
     "output_type": "stream",
     "text": [
      "Feature Extraction: 100%|██████████| 70/70 [10:56<00:00,  9.38s/it]  \n"
     ]
    },
    {
     "name": "stdout",
     "output_type": "stream",
     "text": [
      "On i: 75\n"
     ]
    },
    {
     "name": "stderr",
     "output_type": "stream",
     "text": [
      "Feature Extraction: 100%|██████████| 70/70 [10:25<00:00,  8.94s/it]  \n"
     ]
    },
    {
     "name": "stdout",
     "output_type": "stream",
     "text": [
      "On i: 150\n"
     ]
    },
    {
     "name": "stderr",
     "output_type": "stream",
     "text": [
      "Feature Extraction: 100%|██████████| 70/70 [09:05<00:00,  7.79s/it]  \n"
     ]
    },
    {
     "name": "stdout",
     "output_type": "stream",
     "text": [
      "On i: 225\n"
     ]
    },
    {
     "name": "stderr",
     "output_type": "stream",
     "text": [
      "Feature Extraction: 100%|██████████| 70/70 [11:00<00:00,  9.43s/it]  \n"
     ]
    },
    {
     "name": "stdout",
     "output_type": "stream",
     "text": [
      "On i: 300\n"
     ]
    },
    {
     "name": "stderr",
     "output_type": "stream",
     "text": [
      "Feature Extraction: 100%|██████████| 70/70 [11:05<00:00,  9.51s/it]  \n"
     ]
    },
    {
     "name": "stdout",
     "output_type": "stream",
     "text": [
      "On i: 375\n"
     ]
    },
    {
     "name": "stderr",
     "output_type": "stream",
     "text": [
      "Feature Extraction: 100%|██████████| 70/70 [11:01<00:00,  9.45s/it]  \n"
     ]
    },
    {
     "name": "stdout",
     "output_type": "stream",
     "text": [
      "On i: 450\n"
     ]
    },
    {
     "name": "stderr",
     "output_type": "stream",
     "text": [
      "Feature Extraction: 100%|██████████| 70/70 [10:56<00:00,  9.37s/it]  \n"
     ]
    },
    {
     "name": "stdout",
     "output_type": "stream",
     "text": [
      "On i: 525\n"
     ]
    },
    {
     "name": "stderr",
     "output_type": "stream",
     "text": [
      "Feature Extraction: 100%|██████████| 70/70 [11:04<00:00,  9.49s/it]  \n"
     ]
    },
    {
     "name": "stdout",
     "output_type": "stream",
     "text": [
      "On i: 600\n"
     ]
    },
    {
     "name": "stderr",
     "output_type": "stream",
     "text": [
      "Feature Extraction: 100%|██████████| 70/70 [11:00<00:00,  9.43s/it]  \n"
     ]
    },
    {
     "name": "stdout",
     "output_type": "stream",
     "text": [
      "On i: 675\n"
     ]
    },
    {
     "name": "stderr",
     "output_type": "stream",
     "text": [
      "Feature Extraction: 100%|██████████| 70/70 [08:42<00:00,  7.47s/it] \n"
     ]
    },
    {
     "name": "stdout",
     "output_type": "stream",
     "text": [
      "On i: 750\n"
     ]
    },
    {
     "ename": "ValueError",
     "evalue": "The following ids are in y but are missing inside the time series container: {0, 1, 2, 3, 4, 5, 6, 7, 8, 9, 10, 11, 12, 13, 14, 15, 16, 17, 18, 19, 20, 21, 22, 23, 24, 25, 26, 27, 28, 29, 30, 31, 32, 33, 34, 35, 36, 37, 38, 39, 40, 41, 42, 43, 44, 45, 46, 47, 48, 49, 50, 51, 52, 53, 54, 55, 56, 57, 58, 59, 60, 61, 62, 63, 64, 65, 66, 67, 68, 69, 70, 71, 72, 73, 74, 75, 76, 77, 78, 79, 80, 81, 82, 83, 84, 85, 86, 87, 88, 89, 90, 91, 92, 93, 94, 95, 96, 97, 98, 99, 100, 101, 102, 103, 104, 105, 106, 107, 108, 109, 110, 111, 112, 113, 114, 115, 116, 117, 118, 119, 120, 121, 122, 123, 124, 125, 126, 127, 128, 129, 130, 131, 132, 133, 134, 135, 136, 137, 138, 139, 140, 141, 142, 143, 144, 145, 146, 147, 148, 149, 150, 151, 152, 153, 154, 155, 156, 157, 158, 159, 160, 161, 162, 163, 164, 165, 166, 167, 168, 169, 170, 171, 172, 173, 174, 175, 176, 177, 178, 179, 180, 181, 182, 183, 184, 185, 186, 187, 188, 189, 190, 191, 192, 193, 194, 195, 196, 197, 198, 199, 200, 201, 202, 203, 204, 205, 206, 207, 208, 209, 210, 211, 212, 213, 214, 215, 216, 217, 218, 219, 220, 221, 222, 223, 224, 225, 226, 227, 228, 229, 230, 231, 232, 233, 234, 235, 236, 237, 238, 239, 240, 241, 242, 243, 244, 245, 246, 247, 248, 249, 250, 251, 252, 253, 254, 255, 256, 257, 258, 259, 260, 261, 262, 263, 264, 265, 266, 267, 268, 269, 270, 271, 272, 273, 274, 275, 276, 277, 278, 279, 280, 281, 282, 283, 284, 285, 286, 287, 288, 289, 290, 291, 292, 293, 294, 295, 296, 297, 298, 299, 300, 301, 302, 303, 304, 305, 306, 307, 308, 309, 310, 311, 312, 313, 314, 315, 316, 317, 318, 319, 320, 321, 322, 323, 324, 325, 326, 327, 328, 329, 330, 331, 332, 333, 334, 335, 336, 337, 338, 339, 340, 341, 342, 343, 344, 345, 346, 347, 348, 349, 350, 351, 352, 353, 354, 355, 356, 357, 358, 359, 360, 361, 362, 363, 364, 365, 366, 367, 368, 369, 370, 371, 372, 373, 374, 375, 376, 377, 378, 379, 380, 381, 382, 383, 384, 385, 386, 387, 388, 389, 390, 391, 392, 393, 394, 395, 396, 397, 398, 399, 400, 401, 402, 403, 404, 405, 406, 407, 408, 409, 410, 411, 412, 413, 414, 415, 416, 417, 418, 419, 420, 421, 422, 423, 424, 425, 426, 427, 428, 429, 430, 431, 432, 433, 434, 435, 436, 437, 438, 439, 440, 441, 442, 443, 444, 445, 446, 447, 448, 449, 450, 451, 452, 453, 454, 455, 456, 457, 458, 459, 460, 461, 462, 463, 464, 465, 466, 467, 468, 469, 470, 471, 472, 473, 474, 475, 476, 477, 478, 479, 480, 481, 482, 483, 484, 485, 486, 487, 488, 489, 490, 491, 492, 493, 494, 495, 496, 497, 498, 499, 500, 501, 502, 503, 504, 505, 506, 507, 508, 509, 510, 511}",
     "output_type": "error",
     "traceback": [
      "\u001b[0;31m---------------------------------------------------------------------------\u001b[0m",
      "\u001b[0;31mValueError\u001b[0m                                Traceback (most recent call last)",
      "\u001b[0;32m<ipython-input-5-ba3349ae0055>\u001b[0m in \u001b[0;36m<module>\u001b[0;34m\u001b[0m\n\u001b[1;32m      2\u001b[0m \u001b[0;32mfor\u001b[0m \u001b[0mi\u001b[0m \u001b[0;32min\u001b[0m \u001b[0mrange\u001b[0m\u001b[0;34m(\u001b[0m\u001b[0;36m0\u001b[0m\u001b[0;34m,\u001b[0m\u001b[0mlen\u001b[0m\u001b[0;34m(\u001b[0m\u001b[0mtsfresh_data\u001b[0m\u001b[0;34m[\u001b[0m\u001b[0;34m'kind'\u001b[0m\u001b[0;34m]\u001b[0m\u001b[0;34m.\u001b[0m\u001b[0mvalues\u001b[0m\u001b[0;34m)\u001b[0m\u001b[0;34m,\u001b[0m\u001b[0mstride\u001b[0m\u001b[0;34m)\u001b[0m\u001b[0;34m:\u001b[0m\u001b[0;34m\u001b[0m\u001b[0;34m\u001b[0m\u001b[0m\n\u001b[1;32m      3\u001b[0m     \u001b[0mprint\u001b[0m\u001b[0;34m(\u001b[0m\u001b[0;34m'On i: '\u001b[0m \u001b[0;34m+\u001b[0m \u001b[0mstr\u001b[0m\u001b[0;34m(\u001b[0m\u001b[0mi\u001b[0m\u001b[0;34m)\u001b[0m\u001b[0;34m)\u001b[0m\u001b[0;34m\u001b[0m\u001b[0;34m\u001b[0m\u001b[0m\n\u001b[0;32m----> 4\u001b[0;31m     \u001b[0mrelevant_features\u001b[0m\u001b[0;34m.\u001b[0m\u001b[0mappend\u001b[0m\u001b[0;34m(\u001b[0m \u001b[0mextract_relevant_features\u001b[0m\u001b[0;34m(\u001b[0m\u001b[0mtsfresh_data\u001b[0m\u001b[0;34m[\u001b[0m\u001b[0mtsfresh_data\u001b[0m\u001b[0;34m[\u001b[0m\u001b[0;34m'kind'\u001b[0m\u001b[0;34m]\u001b[0m\u001b[0;34m.\u001b[0m\u001b[0misin\u001b[0m\u001b[0;34m(\u001b[0m\u001b[0mtsfresh_data\u001b[0m\u001b[0;34m[\u001b[0m\u001b[0;34m'kind'\u001b[0m\u001b[0;34m]\u001b[0m\u001b[0;34m.\u001b[0m\u001b[0munique\u001b[0m\u001b[0;34m(\u001b[0m\u001b[0;34m)\u001b[0m\u001b[0;34m[\u001b[0m\u001b[0mi\u001b[0m\u001b[0;34m:\u001b[0m\u001b[0mi\u001b[0m\u001b[0;34m+\u001b[0m\u001b[0mstride\u001b[0m\u001b[0;34m]\u001b[0m\u001b[0;34m)\u001b[0m\u001b[0;34m]\u001b[0m\u001b[0;34m,\u001b[0m \u001b[0my_train\u001b[0m\u001b[0;34m[\u001b[0m\u001b[0;34m'Day1DangerAboveTreeline'\u001b[0m\u001b[0;34m]\u001b[0m\u001b[0;34m,\u001b[0m \u001b[0mcolumn_id\u001b[0m\u001b[0;34m=\u001b[0m\u001b[0;34m'id'\u001b[0m\u001b[0;34m,\u001b[0m \u001b[0mcolumn_sort\u001b[0m\u001b[0;34m=\u001b[0m\u001b[0;34m\"time\"\u001b[0m\u001b[0;34m,\u001b[0m \u001b[0mcolumn_kind\u001b[0m\u001b[0;34m=\u001b[0m\u001b[0;34m\"kind\"\u001b[0m\u001b[0;34m,\u001b[0m \u001b[0mcolumn_value\u001b[0m\u001b[0;34m=\u001b[0m\u001b[0;34m\"value\"\u001b[0m\u001b[0;34m,\u001b[0m \u001b[0mn_jobs\u001b[0m\u001b[0;34m=\u001b[0m\u001b[0;36m14\u001b[0m\u001b[0;34m)\u001b[0m\u001b[0;34m)\u001b[0m\u001b[0;34m\u001b[0m\u001b[0;34m\u001b[0m\u001b[0m\n\u001b[0m",
      "\u001b[0;32m~/anaconda3/envs/pangeo_local/lib/python3.6/site-packages/tsfresh/convenience/relevant_extraction.py\u001b[0m in \u001b[0;36mextract_relevant_features\u001b[0;34m(timeseries_container, y, X, default_fc_parameters, kind_to_fc_parameters, column_id, column_sort, column_kind, column_value, show_warnings, disable_progressbar, profile, profiling_filename, profiling_sorting, test_for_binary_target_binary_feature, test_for_binary_target_real_feature, test_for_real_target_binary_feature, test_for_real_target_real_feature, fdr_level, hypotheses_independent, n_jobs, distributor, chunksize, ml_task)\u001b[0m\n\u001b[1;32m    155\u001b[0m         \u001b[0;32mif\u001b[0m \u001b[0mlen\u001b[0m\u001b[0;34m(\u001b[0m\u001b[0mids_y\u001b[0m \u001b[0;34m-\u001b[0m \u001b[0mids_container\u001b[0m\u001b[0;34m)\u001b[0m \u001b[0;34m>\u001b[0m \u001b[0;36m0\u001b[0m\u001b[0;34m:\u001b[0m\u001b[0;34m\u001b[0m\u001b[0;34m\u001b[0m\u001b[0m\n\u001b[1;32m    156\u001b[0m             raise ValueError(\"The following ids are in y but are missing inside the time series container: \"\n\u001b[0;32m--> 157\u001b[0;31m                              \"{}\".format(ids_y - ids_container))\n\u001b[0m\u001b[1;32m    158\u001b[0m \u001b[0;34m\u001b[0m\u001b[0m\n\u001b[1;32m    159\u001b[0m     X_ext = extract_features(timeseries_container,\n",
      "\u001b[0;31mValueError\u001b[0m: The following ids are in y but are missing inside the time series container: {0, 1, 2, 3, 4, 5, 6, 7, 8, 9, 10, 11, 12, 13, 14, 15, 16, 17, 18, 19, 20, 21, 22, 23, 24, 25, 26, 27, 28, 29, 30, 31, 32, 33, 34, 35, 36, 37, 38, 39, 40, 41, 42, 43, 44, 45, 46, 47, 48, 49, 50, 51, 52, 53, 54, 55, 56, 57, 58, 59, 60, 61, 62, 63, 64, 65, 66, 67, 68, 69, 70, 71, 72, 73, 74, 75, 76, 77, 78, 79, 80, 81, 82, 83, 84, 85, 86, 87, 88, 89, 90, 91, 92, 93, 94, 95, 96, 97, 98, 99, 100, 101, 102, 103, 104, 105, 106, 107, 108, 109, 110, 111, 112, 113, 114, 115, 116, 117, 118, 119, 120, 121, 122, 123, 124, 125, 126, 127, 128, 129, 130, 131, 132, 133, 134, 135, 136, 137, 138, 139, 140, 141, 142, 143, 144, 145, 146, 147, 148, 149, 150, 151, 152, 153, 154, 155, 156, 157, 158, 159, 160, 161, 162, 163, 164, 165, 166, 167, 168, 169, 170, 171, 172, 173, 174, 175, 176, 177, 178, 179, 180, 181, 182, 183, 184, 185, 186, 187, 188, 189, 190, 191, 192, 193, 194, 195, 196, 197, 198, 199, 200, 201, 202, 203, 204, 205, 206, 207, 208, 209, 210, 211, 212, 213, 214, 215, 216, 217, 218, 219, 220, 221, 222, 223, 224, 225, 226, 227, 228, 229, 230, 231, 232, 233, 234, 235, 236, 237, 238, 239, 240, 241, 242, 243, 244, 245, 246, 247, 248, 249, 250, 251, 252, 253, 254, 255, 256, 257, 258, 259, 260, 261, 262, 263, 264, 265, 266, 267, 268, 269, 270, 271, 272, 273, 274, 275, 276, 277, 278, 279, 280, 281, 282, 283, 284, 285, 286, 287, 288, 289, 290, 291, 292, 293, 294, 295, 296, 297, 298, 299, 300, 301, 302, 303, 304, 305, 306, 307, 308, 309, 310, 311, 312, 313, 314, 315, 316, 317, 318, 319, 320, 321, 322, 323, 324, 325, 326, 327, 328, 329, 330, 331, 332, 333, 334, 335, 336, 337, 338, 339, 340, 341, 342, 343, 344, 345, 346, 347, 348, 349, 350, 351, 352, 353, 354, 355, 356, 357, 358, 359, 360, 361, 362, 363, 364, 365, 366, 367, 368, 369, 370, 371, 372, 373, 374, 375, 376, 377, 378, 379, 380, 381, 382, 383, 384, 385, 386, 387, 388, 389, 390, 391, 392, 393, 394, 395, 396, 397, 398, 399, 400, 401, 402, 403, 404, 405, 406, 407, 408, 409, 410, 411, 412, 413, 414, 415, 416, 417, 418, 419, 420, 421, 422, 423, 424, 425, 426, 427, 428, 429, 430, 431, 432, 433, 434, 435, 436, 437, 438, 439, 440, 441, 442, 443, 444, 445, 446, 447, 448, 449, 450, 451, 452, 453, 454, 455, 456, 457, 458, 459, 460, 461, 462, 463, 464, 465, 466, 467, 468, 469, 470, 471, 472, 473, 474, 475, 476, 477, 478, 479, 480, 481, 482, 483, 484, 485, 486, 487, 488, 489, 490, 491, 492, 493, 494, 495, 496, 497, 498, 499, 500, 501, 502, 503, 504, 505, 506, 507, 508, 509, 510, 511}"
     ]
    }
   ],
   "source": [
    "stride = 75\n",
    "#TODO: make this more gracefully end on last stride\n",
    "for i in range(0,len(tsfresh_data['kind'].values),stride):\n",
    "    print('On i: ' + str(i))\n",
    "    relevant_features.append( extract_relevant_features(tsfresh_data[tsfresh_data['kind'].isin(tsfresh_data['kind'].unique()[i:i+stride])], y_train['Day1DangerAboveTreeline'], column_id='id', column_sort=\"time\", column_kind=\"kind\", column_value=\"value\", n_jobs=14))"
   ]
  },
  {
   "cell_type": "code",
   "execution_count": 29,
   "metadata": {},
   "outputs": [],
   "source": [
    "speak('done')"
   ]
  },
  {
   "cell_type": "code",
   "execution_count": 16,
   "metadata": {},
   "outputs": [],
   "source": [
    "pd.concat(relevant_features, axis=1).to_csv('/media/scottcha/Data/Temp/GFSFiltered/train_revelant_features.csv')"
   ]
  },
  {
   "cell_type": "code",
   "execution_count": 3,
   "metadata": {},
   "outputs": [],
   "source": [
    "relevant_features = pd.read_csv('/media/scottcha/Data/Temp/GFSFiltered/train_revelant_features.csv')"
   ]
  },
  {
   "cell_type": "code",
   "execution_count": 9,
   "metadata": {},
   "outputs": [],
   "source": [
    "relevant_features.drop('id', axis=1, inplace=True)"
   ]
  },
  {
   "cell_type": "code",
   "execution_count": 35,
   "metadata": {},
   "outputs": [
    {
     "data": {
      "text/plain": [
       "Moderate        137\n",
       "Considerable     53\n",
       "Low              41\n",
       "no-data          16\n",
       "High              7\n",
       "Name: Day1DangerAboveTreeline, dtype: int64"
      ]
     },
     "execution_count": 35,
     "metadata": {},
     "output_type": "execute_result"
    }
   ],
   "source": [
    "y_train['Day1DangerAboveTreeline'].value_counts()"
   ]
  },
  {
   "cell_type": "code",
   "execution_count": 11,
   "metadata": {},
   "outputs": [],
   "source": [
    "from tsfresh import feature_extraction\n",
    "feature_parameters = feature_extraction.settings.from_columns(relevant_features)"
   ]
  },
  {
   "cell_type": "code",
   "execution_count": 93,
   "metadata": {},
   "outputs": [
    {
     "data": {
      "text/plain": [
       "(128, 735, 181)"
      ]
     },
     "execution_count": 93,
     "metadata": {},
     "output_type": "execute_result"
    }
   ],
   "source": [
    "X_test.shape"
   ]
  },
  {
   "cell_type": "code",
   "execution_count": 94,
   "metadata": {},
   "outputs": [
    {
     "data": {
      "text/plain": [
       "array([  0,   1,   2,   3,   4,   5,   6,   7,   8,   9,  10,  11,  12,\n",
       "        13,  14,  15,  16,  17,  18,  19,  20,  21,  22,  23,  24,  25,\n",
       "        26,  27,  28,  29,  30,  31,  32,  33,  34,  35,  36,  37,  38,\n",
       "        39,  40,  41,  42,  43,  44,  45,  46,  47,  48,  49,  50,  51,\n",
       "        52,  53,  54,  55,  56,  57,  58,  59,  60,  61,  62,  63,  64,\n",
       "        65,  66,  67,  68,  69,  70,  71,  72,  73,  74,  75,  76,  77,\n",
       "        78,  79,  80,  81,  82,  83,  84,  85,  86,  87,  88,  89,  90,\n",
       "        91,  92,  93,  94,  95,  96,  97,  98,  99, 100, 101, 102, 103,\n",
       "       104, 105, 106, 107, 108, 109, 110, 111, 112, 113, 114, 115, 116,\n",
       "       117, 118, 119, 120, 121, 122, 123, 124, 125, 126, 127])"
      ]
     },
     "execution_count": 94,
     "metadata": {},
     "output_type": "execute_result"
    }
   ],
   "source": [
    "tsfresh_data_test['id'].unique()"
   ]
  },
  {
   "cell_type": "code",
   "execution_count": 13,
   "metadata": {},
   "outputs": [
    {
     "name": "stdout",
     "output_type": "stream",
     "text": [
      "On i: 0\n"
     ]
    },
    {
     "name": "stderr",
     "output_type": "stream",
     "text": [
      "Feature Extraction: 100%|██████████| 70/70 [08:06<00:00,  6.95s/it] \n"
     ]
    },
    {
     "name": "stdout",
     "output_type": "stream",
     "text": [
      "On i: 75\n"
     ]
    },
    {
     "name": "stderr",
     "output_type": "stream",
     "text": [
      "Feature Extraction: 100%|██████████| 70/70 [07:21<00:00,  6.30s/it] \n"
     ]
    },
    {
     "name": "stdout",
     "output_type": "stream",
     "text": [
      "On i: 150\n"
     ]
    },
    {
     "name": "stderr",
     "output_type": "stream",
     "text": [
      "Feature Extraction: 100%|██████████| 70/70 [05:21<00:00,  4.59s/it] \n"
     ]
    },
    {
     "name": "stdout",
     "output_type": "stream",
     "text": [
      "On i: 225\n"
     ]
    },
    {
     "name": "stderr",
     "output_type": "stream",
     "text": [
      "Feature Extraction: 100%|██████████| 70/70 [10:06<00:00,  8.66s/it]  \n"
     ]
    },
    {
     "name": "stdout",
     "output_type": "stream",
     "text": [
      "On i: 300\n"
     ]
    },
    {
     "name": "stderr",
     "output_type": "stream",
     "text": [
      "Feature Extraction: 100%|██████████| 70/70 [08:08<00:00,  6.98s/it] \n"
     ]
    },
    {
     "name": "stdout",
     "output_type": "stream",
     "text": [
      "On i: 375\n"
     ]
    },
    {
     "name": "stderr",
     "output_type": "stream",
     "text": [
      "Feature Extraction: 100%|██████████| 70/70 [08:01<00:00,  6.88s/it] \n"
     ]
    },
    {
     "name": "stdout",
     "output_type": "stream",
     "text": [
      "On i: 450\n"
     ]
    },
    {
     "name": "stderr",
     "output_type": "stream",
     "text": [
      "Feature Extraction: 100%|██████████| 70/70 [09:30<00:00,  8.15s/it]  \n"
     ]
    },
    {
     "name": "stdout",
     "output_type": "stream",
     "text": [
      "On i: 525\n"
     ]
    },
    {
     "name": "stderr",
     "output_type": "stream",
     "text": [
      "Feature Extraction: 100%|██████████| 70/70 [09:53<00:00,  8.48s/it]  \n"
     ]
    },
    {
     "name": "stdout",
     "output_type": "stream",
     "text": [
      "On i: 600\n"
     ]
    },
    {
     "name": "stderr",
     "output_type": "stream",
     "text": [
      "Feature Extraction: 100%|██████████| 70/70 [09:08<00:00,  7.83s/it]  \n"
     ]
    },
    {
     "name": "stdout",
     "output_type": "stream",
     "text": [
      "On i: 675\n"
     ]
    },
    {
     "name": "stderr",
     "output_type": "stream",
     "text": [
      "Feature Extraction: 100%|██████████| 70/70 [06:47<00:00,  5.83s/it] \n"
     ]
    },
    {
     "name": "stdout",
     "output_type": "stream",
     "text": [
      "On i: 750\n"
     ]
    },
    {
     "ename": "ValueError",
     "evalue": "The truth value of a Series is ambiguous. Use a.empty, a.bool(), a.item(), a.any() or a.all().",
     "output_type": "error",
     "traceback": [
      "\u001b[0;31m---------------------------------------------------------------------------\u001b[0m",
      "\u001b[0;31mValueError\u001b[0m                                Traceback (most recent call last)",
      "\u001b[0;32m<ipython-input-13-a50a3a3f0bb2>\u001b[0m in \u001b[0;36m<module>\u001b[0;34m\u001b[0m\n\u001b[1;32m      4\u001b[0m \u001b[0;32mfor\u001b[0m \u001b[0mi\u001b[0m \u001b[0;32min\u001b[0m \u001b[0mrange\u001b[0m\u001b[0;34m(\u001b[0m\u001b[0;36m0\u001b[0m\u001b[0;34m,\u001b[0m\u001b[0mlen\u001b[0m\u001b[0;34m(\u001b[0m\u001b[0mtsfresh_data_test\u001b[0m\u001b[0;34m[\u001b[0m\u001b[0;34m'kind'\u001b[0m\u001b[0;34m]\u001b[0m\u001b[0;34m.\u001b[0m\u001b[0mvalues\u001b[0m\u001b[0;34m)\u001b[0m\u001b[0;34m,\u001b[0m\u001b[0mstride\u001b[0m\u001b[0;34m)\u001b[0m\u001b[0;34m:\u001b[0m\u001b[0;34m\u001b[0m\u001b[0;34m\u001b[0m\u001b[0m\n\u001b[1;32m      5\u001b[0m     \u001b[0mprint\u001b[0m\u001b[0;34m(\u001b[0m\u001b[0;34m'On i: '\u001b[0m \u001b[0;34m+\u001b[0m \u001b[0mstr\u001b[0m\u001b[0;34m(\u001b[0m\u001b[0mi\u001b[0m\u001b[0;34m)\u001b[0m\u001b[0;34m)\u001b[0m\u001b[0;34m\u001b[0m\u001b[0;34m\u001b[0m\u001b[0m\n\u001b[0;32m----> 6\u001b[0;31m     \u001b[0mtest_features_filtered\u001b[0m\u001b[0;34m.\u001b[0m\u001b[0mappend\u001b[0m\u001b[0;34m(\u001b[0m \u001b[0mextract_features\u001b[0m\u001b[0;34m(\u001b[0m\u001b[0mtsfresh_data_test\u001b[0m\u001b[0;34m[\u001b[0m\u001b[0mtsfresh_data_test\u001b[0m\u001b[0;34m[\u001b[0m\u001b[0;34m'kind'\u001b[0m\u001b[0;34m]\u001b[0m\u001b[0;34m.\u001b[0m\u001b[0misin\u001b[0m\u001b[0;34m(\u001b[0m\u001b[0mtsfresh_data_test\u001b[0m\u001b[0;34m[\u001b[0m\u001b[0;34m'kind'\u001b[0m\u001b[0;34m]\u001b[0m\u001b[0;34m.\u001b[0m\u001b[0munique\u001b[0m\u001b[0;34m(\u001b[0m\u001b[0;34m)\u001b[0m\u001b[0;34m[\u001b[0m\u001b[0mi\u001b[0m\u001b[0;34m:\u001b[0m\u001b[0mi\u001b[0m\u001b[0;34m+\u001b[0m\u001b[0mstride\u001b[0m\u001b[0;34m]\u001b[0m\u001b[0;34m)\u001b[0m\u001b[0;34m]\u001b[0m\u001b[0;34m,\u001b[0m \u001b[0mkind_to_fc_parameters\u001b[0m\u001b[0;34m=\u001b[0m\u001b[0mfeature_parameters\u001b[0m\u001b[0;34m,\u001b[0m \u001b[0mcolumn_id\u001b[0m\u001b[0;34m=\u001b[0m\u001b[0;34m'id'\u001b[0m\u001b[0;34m,\u001b[0m \u001b[0mcolumn_sort\u001b[0m\u001b[0;34m=\u001b[0m\u001b[0;34m\"time\"\u001b[0m\u001b[0;34m,\u001b[0m \u001b[0mcolumn_kind\u001b[0m\u001b[0;34m=\u001b[0m\u001b[0;34m\"kind\"\u001b[0m\u001b[0;34m,\u001b[0m \u001b[0mcolumn_value\u001b[0m\u001b[0;34m=\u001b[0m\u001b[0;34m\"value\"\u001b[0m\u001b[0;34m,\u001b[0m \u001b[0mn_jobs\u001b[0m\u001b[0;34m=\u001b[0m\u001b[0;36m14\u001b[0m\u001b[0;34m)\u001b[0m\u001b[0;34m)\u001b[0m\u001b[0;34m\u001b[0m\u001b[0;34m\u001b[0m\u001b[0m\n\u001b[0m\u001b[1;32m      7\u001b[0m \u001b[0;34m\u001b[0m\u001b[0m\n\u001b[1;32m      8\u001b[0m \u001b[0;31m#test_features_filtered = extract_features(tsfresh_data_test, kind_to_fc_parameters=feature_parameters, column_id='id', column_sort=\"time\", column_kind=\"kind\", column_value=\"value\", n_jobs=14)\u001b[0m\u001b[0;34m\u001b[0m\u001b[0;34m\u001b[0m\u001b[0;34m\u001b[0m\u001b[0m\n",
      "\u001b[0;32m~/anaconda3/envs/pangeo_local/lib/python3.6/site-packages/tsfresh/feature_extraction/extraction.py\u001b[0m in \u001b[0;36mextract_features\u001b[0;34m(timeseries_container, default_fc_parameters, kind_to_fc_parameters, column_id, column_sort, column_kind, column_value, chunksize, n_jobs, show_warnings, disable_progressbar, impute_function, profile, profiling_filename, profiling_sorting, distributor)\u001b[0m\n\u001b[1;32m    158\u001b[0m                                 \u001b[0mdefault_fc_parameters\u001b[0m\u001b[0;34m=\u001b[0m\u001b[0mdefault_fc_parameters\u001b[0m\u001b[0;34m,\u001b[0m\u001b[0;34m\u001b[0m\u001b[0;34m\u001b[0m\u001b[0m\n\u001b[1;32m    159\u001b[0m                                 \u001b[0mkind_to_fc_parameters\u001b[0m\u001b[0;34m=\u001b[0m\u001b[0mkind_to_fc_parameters\u001b[0m\u001b[0;34m,\u001b[0m\u001b[0;34m\u001b[0m\u001b[0;34m\u001b[0m\u001b[0m\n\u001b[0;32m--> 160\u001b[0;31m                                 distributor=distributor)\n\u001b[0m\u001b[1;32m    161\u001b[0m \u001b[0;34m\u001b[0m\u001b[0m\n\u001b[1;32m    162\u001b[0m         \u001b[0;31m# Impute the result if requested\u001b[0m\u001b[0;34m\u001b[0m\u001b[0;34m\u001b[0m\u001b[0;34m\u001b[0m\u001b[0m\n",
      "\u001b[0;32m~/anaconda3/envs/pangeo_local/lib/python3.6/site-packages/tsfresh/feature_extraction/extraction.py\u001b[0m in \u001b[0;36m_do_extraction\u001b[0;34m(df, column_id, column_value, column_kind, default_fc_parameters, kind_to_fc_parameters, n_jobs, chunk_size, disable_progressbar, show_warnings, distributor)\u001b[0m\n\u001b[1;32m    289\u001b[0m     \"\"\"\n\u001b[1;32m    290\u001b[0m \u001b[0;34m\u001b[0m\u001b[0m\n\u001b[0;32m--> 291\u001b[0;31m     \u001b[0mdata_in_chunks\u001b[0m \u001b[0;34m=\u001b[0m \u001b[0mgenerate_data_chunk_format\u001b[0m\u001b[0;34m(\u001b[0m\u001b[0mdf\u001b[0m\u001b[0;34m,\u001b[0m \u001b[0mcolumn_id\u001b[0m\u001b[0;34m,\u001b[0m \u001b[0mcolumn_kind\u001b[0m\u001b[0;34m,\u001b[0m \u001b[0mcolumn_value\u001b[0m\u001b[0;34m)\u001b[0m\u001b[0;34m\u001b[0m\u001b[0;34m\u001b[0m\u001b[0m\n\u001b[0m\u001b[1;32m    292\u001b[0m \u001b[0;34m\u001b[0m\u001b[0m\n\u001b[1;32m    293\u001b[0m     \u001b[0;32mif\u001b[0m \u001b[0mdistributor\u001b[0m \u001b[0;32mis\u001b[0m \u001b[0;32mNone\u001b[0m\u001b[0;34m:\u001b[0m\u001b[0;34m\u001b[0m\u001b[0;34m\u001b[0m\u001b[0m\n",
      "\u001b[0;32m~/anaconda3/envs/pangeo_local/lib/python3.6/site-packages/tsfresh/feature_extraction/extraction.py\u001b[0m in \u001b[0;36mgenerate_data_chunk_format\u001b[0;34m(df, column_id, column_kind, column_value)\u001b[0m\n\u001b[1;32m    216\u001b[0m     \u001b[0mMAX_VALUES_GROUPBY\u001b[0m \u001b[0;34m=\u001b[0m \u001b[0;36m2147483647\u001b[0m\u001b[0;34m\u001b[0m\u001b[0;34m\u001b[0m\u001b[0m\n\u001b[1;32m    217\u001b[0m \u001b[0;34m\u001b[0m\u001b[0m\n\u001b[0;32m--> 218\u001b[0;31m     \u001b[0;32mif\u001b[0m \u001b[0mdf\u001b[0m\u001b[0;34m[\u001b[0m\u001b[0;34m[\u001b[0m\u001b[0mcolumn_id\u001b[0m\u001b[0;34m,\u001b[0m \u001b[0mcolumn_kind\u001b[0m\u001b[0;34m]\u001b[0m\u001b[0;34m]\u001b[0m\u001b[0;34m.\u001b[0m\u001b[0mnunique\u001b[0m\u001b[0;34m(\u001b[0m\u001b[0;34m)\u001b[0m\u001b[0;34m.\u001b[0m\u001b[0mprod\u001b[0m\u001b[0;34m(\u001b[0m\u001b[0;34m)\u001b[0m \u001b[0;34m>=\u001b[0m \u001b[0mMAX_VALUES_GROUPBY\u001b[0m\u001b[0;34m:\u001b[0m\u001b[0;34m\u001b[0m\u001b[0;34m\u001b[0m\u001b[0m\n\u001b[0m\u001b[1;32m    219\u001b[0m         _logger.error(\n\u001b[1;32m    220\u001b[0m             \u001b[0;34m\"The time series container has {} different ids and {} different kind of time series, \"\u001b[0m\u001b[0;34m\u001b[0m\u001b[0;34m\u001b[0m\u001b[0m\n",
      "\u001b[0;32m~/anaconda3/envs/pangeo_local/lib/python3.6/site-packages/pandas/core/generic.py\u001b[0m in \u001b[0;36m__nonzero__\u001b[0;34m(self)\u001b[0m\n\u001b[1;32m   1553\u001b[0m             \u001b[0;34m\"The truth value of a {0} is ambiguous. \"\u001b[0m\u001b[0;34m\u001b[0m\u001b[0;34m\u001b[0m\u001b[0m\n\u001b[1;32m   1554\u001b[0m             \"Use a.empty, a.bool(), a.item(), a.any() or a.all().\".format(\n\u001b[0;32m-> 1555\u001b[0;31m                 \u001b[0mself\u001b[0m\u001b[0;34m.\u001b[0m\u001b[0m__class__\u001b[0m\u001b[0;34m.\u001b[0m\u001b[0m__name__\u001b[0m\u001b[0;34m\u001b[0m\u001b[0;34m\u001b[0m\u001b[0m\n\u001b[0m\u001b[1;32m   1556\u001b[0m             )\n\u001b[1;32m   1557\u001b[0m         )\n",
      "\u001b[0;31mValueError\u001b[0m: The truth value of a Series is ambiguous. Use a.empty, a.bool(), a.item(), a.any() or a.all()."
     ]
    }
   ],
   "source": [
    "from tsfresh import extract_features\n",
    "stride = 75\n",
    "test_features_filtered = []\n",
    "for i in range(0,len(tsfresh_data_test['kind'].values),stride):\n",
    "    print('On i: ' + str(i))\n",
    "    test_features_filtered.append( extract_features(tsfresh_data_test[tsfresh_data_test['kind'].isin(tsfresh_data_test['kind'].unique()[i:i+stride])], kind_to_fc_parameters=feature_parameters, column_id='id', column_sort=\"time\", column_kind=\"kind\", column_value=\"value\", n_jobs=14))\n"
   ]
  },
  {
   "cell_type": "code",
   "execution_count": 19,
   "metadata": {},
   "outputs": [],
   "source": [
    "test_features_filtered = pd.concat(test_features_filtered, axis=1)"
   ]
  },
  {
   "cell_type": "code",
   "execution_count": 14,
   "metadata": {},
   "outputs": [],
   "source": [
    "pd.concat(test_features_filtered, axis=1).to_csv('/media/scottcha/Data/Temp/GFSFiltered/test_revelant_features.csv')"
   ]
  },
  {
   "cell_type": "code",
   "execution_count": 15,
   "metadata": {},
   "outputs": [],
   "source": [
    "import xgboost as xgb\n",
    "from xgboost import XGBClassifier"
   ]
  },
  {
   "cell_type": "code",
   "execution_count": 23,
   "metadata": {},
   "outputs": [],
   "source": [
    "features_filtered = relevant_features"
   ]
  },
  {
   "cell_type": "code",
   "execution_count": 59,
   "metadata": {},
   "outputs": [],
   "source": [
    "relevant_intersection = list(set(test_features_filtered.columns.values) & set(features_filtered.columns.values))"
   ]
  },
  {
   "cell_type": "code",
   "execution_count": 61,
   "metadata": {},
   "outputs": [
    {
     "data": {
      "text/plain": [
       "(512, 234983)"
      ]
     },
     "execution_count": 61,
     "metadata": {},
     "output_type": "execute_result"
    }
   ],
   "source": [
    "features_filtered[relevant_intersection].shape"
   ]
  },
  {
   "cell_type": "code",
   "execution_count": 60,
   "metadata": {},
   "outputs": [
    {
     "data": {
      "text/plain": [
       "XGBClassifier(base_score=None, booster=None, colsample_bylevel=None,\n",
       "              colsample_bynode=None, colsample_bytree=None, gamma=None,\n",
       "              gpu_id=None, importance_type='gain', interaction_constraints=None,\n",
       "              learning_rate=0.1, max_delta_step=None, max_depth=None,\n",
       "              min_child_weight=None, missing=nan, monotone_constraints=None,\n",
       "              n_estimators=100, n_jobs=None, num_parallel_tree=None,\n",
       "              objective='multi:softmax', random_state=None, reg_alpha=None,\n",
       "              reg_lambda=None, scale_pos_weight=None, subsample=None,\n",
       "              tree_method=None, validate_parameters=False, verbosity=None)"
      ]
     },
     "execution_count": 60,
     "metadata": {},
     "output_type": "execute_result"
    }
   ],
   "source": [
    "grid = {'learning_rate': 0.1, 'objective': 'multi:softmax'}\n",
    "\n",
    "model = XGBClassifier() \n",
    "model.set_params(**grid)\n",
    "\n"
   ]
  },
  {
   "cell_type": "code",
   "execution_count": 62,
   "metadata": {},
   "outputs": [],
   "source": [
    "val = model.fit(features_filtered[relevant_intersection], y_train['Day1DangerAboveTreeline'])"
   ]
  },
  {
   "cell_type": "code",
   "execution_count": 63,
   "metadata": {},
   "outputs": [],
   "source": [
    "result = model.predict(test_features_filtered[relevant_intersection])"
   ]
  },
  {
   "cell_type": "code",
   "execution_count": 64,
   "metadata": {},
   "outputs": [],
   "source": [
    "from sklearn.metrics import confusion_matrix, accuracy_score, classification_report\n",
    "def evaluateSingleClass(y_test, result):\n",
    "    cm = confusion_matrix(y_test, result)\n",
    "    print(cm)\n",
    "    accuracy = accuracy_score(y_test.values, result)\n",
    "    print(\"Accuracy: \" + str(accuracy))\n",
    "    print(\"Classification Report\")\n",
    "    print(classification_report(y_test.values, result))\n",
    "\n",
    "def evaluateSingleClassShort(y_test, result):\n",
    "    accuracy = accuracy_score(y_test.values, result)\n",
    "    print(\"Accuracy: \" + str(accuracy))\n",
    "    print(\"Classification Report\")\n",
    "    print(classification_report(y_test.values, result))\n",
    "\n",
    "#nice confustion matrix plot taken from scikit-learn docs\n",
    "import itertools\n",
    "import matplotlib.pyplot as plt\n",
    "def plot_confusion_matrix(cm, classes,\n",
    "                          normalize=False,\n",
    "                          title='Confusion matrix',\n",
    "                          cmap=plt.cm.Blues):\n",
    "    \"\"\"\n",
    "    This function prints and plots the confusion matrix.\n",
    "    Normalization can be applied by setting `normalize=True`.\n",
    "    \"\"\"\n",
    "    if normalize:\n",
    "        cm = cm.astype('float') / cm.sum(axis=1)[:, np.newaxis]\n",
    "        print(\"Normalized confusion matrix\")\n",
    "    else:\n",
    "        print('Confusion matrix, without normalization')\n",
    "\n",
    "    #print(cm)\n",
    "\n",
    "    plt.imshow(cm, interpolation='nearest', cmap=cmap)\n",
    "    plt.title(title)\n",
    "    plt.colorbar()\n",
    "    tick_marks = np.arange(len(classes))\n",
    "    plt.xticks(tick_marks, classes, rotation=45)\n",
    "    plt.yticks(tick_marks, classes)\n",
    "\n",
    "    fmt = '.2f' if normalize else 'd'\n",
    "    thresh = cm.max() / 2.\n",
    "    for i, j in itertools.product(range(cm.shape[0]), range(cm.shape[1])):\n",
    "        plt.text(j, i, format(cm[i, j], fmt),\n",
    "                 horizontalalignment=\"center\",\n",
    "                 color=\"white\" if cm[i, j] > thresh else \"black\")\n",
    "\n",
    "    plt.tight_layout()\n",
    "    plt.ylabel('True label')\n",
    "    plt.xlabel('Predicted label')"
   ]
  },
  {
   "cell_type": "code",
   "execution_count": 65,
   "metadata": {},
   "outputs": [
    {
     "data": {
      "text/plain": [
       "(512,)"
      ]
     },
     "execution_count": 65,
     "metadata": {},
     "output_type": "execute_result"
    }
   ],
   "source": [
    "result.shape"
   ]
  },
  {
   "cell_type": "code",
   "execution_count": 66,
   "metadata": {},
   "outputs": [
    {
     "data": {
      "text/plain": [
       "(512,)"
      ]
     },
     "execution_count": 66,
     "metadata": {},
     "output_type": "execute_result"
    }
   ],
   "source": [
    "y_test['Day1DangerAboveTreeline'].shape"
   ]
  },
  {
   "cell_type": "code",
   "execution_count": 67,
   "metadata": {},
   "outputs": [
    {
     "name": "stdout",
     "output_type": "stream",
     "text": [
      "Accuracy: 0.51171875\n",
      "Classification Report\n",
      "              precision    recall  f1-score   support\n",
      "\n",
      "Considerable       0.41      0.47      0.44       110\n",
      "        High       0.64      0.36      0.46       100\n",
      "         Low       0.64      0.68      0.66       171\n",
      "    Moderate       0.39      0.44      0.41       131\n",
      "\n",
      "    accuracy                           0.51       512\n",
      "   macro avg       0.52      0.49      0.49       512\n",
      "weighted avg       0.53      0.51      0.51       512\n",
      "\n"
     ]
    }
   ],
   "source": [
    "#demonstrate we can produce results\n",
    "#currently this is only one batch of 512 out of a close to a million row dataset\n",
    "evaluateSingleClassShort(y_test['Day1DangerAboveTreeline'], result)"
   ]
  },
  {
   "cell_type": "code",
   "execution_count": 69,
   "metadata": {},
   "outputs": [
    {
     "name": "stdout",
     "output_type": "stream",
     "text": [
      "Normalized confusion matrix\n",
      "Confusion matrix, without normalization\n"
     ]
    },
    {
     "data": {
      "image/png": "[encoded data removed]",
      "text/plain": [
       "<Figure size 432x288 with 2 Axes>"
      ]
     },
     "metadata": {
      "needs_background": "light"
     },
     "output_type": "display_data"
    },
    {
     "data": {
      "image/png": "[encoded data removed]",
      "text/plain": [
       "<Figure size 432x288 with 2 Axes>"
      ]
     },
     "metadata": {
      "needs_background": "light"
     },
     "output_type": "display_data"
    }
   ],
   "source": [
    "import numpy as np\n",
    "cnf_matrix = confusion_matrix(y_test['Day1DangerAboveTreeline'], result)\n",
    "plt.figure()\n",
    "plot_confusion_matrix(cnf_matrix, classes=['Considerable', 'High', 'Low', 'Moderate'], normalize=True,\n",
    "                      title='Normalized confusion matrix')\n",
    "plt.figure()\n",
    "plot_confusion_matrix(cnf_matrix, classes=['Considerable', 'High', 'Low', 'Moderate'],\n",
    "                      title='Confusion matrix, without normalization')\n",
    "plt.show()"
   ]
  },
  {
   "cell_type": "code",
   "execution_count": 87,
   "metadata": {},
   "outputs": [
    {
     "data": {
      "text/plain": [
       "<matplotlib.axes._subplots.AxesSubplot at 0x7fa00b3426d8>"
      ]
     },
     "execution_count": 87,
     "metadata": {},
     "output_type": "execute_result"
    },
    {
     "data": {
      "image/png": "[encoded data removed]",
      "text/plain": [
       "<Figure size 432x288 with 1 Axes>"
      ]
     },
     "metadata": {
      "needs_background": "light"
     },
     "output_type": "display_data"
    }
   ],
   "source": [
    "pd.Series(model.get_booster().get_score(importance_type='gain')).sort_values(ascending=False)[:20].plot.barh()"
   ]
  },
  {
   "cell_type": "code",
   "execution_count": null,
   "metadata": {},
   "outputs": [],
   "source": []
  }
 ],
 "metadata": {
  "kernelspec": {
   "display_name": "Python [conda env:pangeo_local] *",
   "language": "python",
   "name": "conda-env-pangeo_local-py"
  },
  "language_info": {
   "codemirror_mode": {
    "name": "ipython",
    "version": 3
   },
   "file_extension": ".py",
   "mimetype": "text/x-python",
   "name": "python",
   "nbconvert_exporter": "python",
   "pygments_lexer": "ipython3",
   "version": "3.6.10"
  }
 },
 "nbformat": 4,
 "nbformat_minor": 4
}
